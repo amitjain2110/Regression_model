{
 "cells": [
  {
   "cell_type": "markdown",
   "id": "stunning-advice",
   "metadata": {},
   "source": [
    "## Importing the libraries"
   ]
  },
  {
   "cell_type": "code",
   "execution_count": 1,
   "id": "verified-webmaster",
   "metadata": {},
   "outputs": [],
   "source": [
    "import numpy as np\n",
    "import pandas as pd\n",
    "from pandas.api.types import is_numeric_dtype\n",
    "\n",
    "import matplotlib.pyplot as plt\n",
    "%matplotlib inline\n",
    "import seaborn as sns\n",
    "\n",
    "import sklearn\n",
    "import sklearn.preprocessing as preprocessing\n",
    "from sklearn.model_selection import train_test_split\n",
    "from sklearn.linear_model import LinearRegression\n",
    "from sklearn.metrics import r2_score\n",
    "from statsmodels.stats.outliers_influence import variance_inflation_factor as vif\n",
    "from sklearn.feature_selection import RFE\n",
    "from sklearn.model_selection import cross_val_score\n",
    "from sklearn.model_selection import KFold\n",
    "from sklearn.model_selection import GridSearchCV\n",
    "\n",
    "import dtale\n",
    "from pandas_profiling import ProfileReport\n",
    "import sweetviz\n",
    "from pandas_visual_analysis import VisualAnalysis"
   ]
  },
  {
   "cell_type": "markdown",
   "id": "selective-rider",
   "metadata": {},
   "source": [
    "## Importing the dataset"
   ]
  },
  {
   "cell_type": "code",
   "execution_count": 2,
   "id": "prostate-button",
   "metadata": {},
   "outputs": [],
   "source": [
    "dataset = pd.read_csv('temp_based_regression.csv')"
   ]
  },
  {
   "cell_type": "markdown",
   "id": "ultimate-architect",
   "metadata": {},
   "source": [
    "# Exploartory data analysis"
   ]
  },
  {
   "cell_type": "code",
   "execution_count": 3,
   "id": "desirable-standard",
   "metadata": {},
   "outputs": [
    {
     "data": {
      "text/html": [
       "<div>\n",
       "<style scoped>\n",
       "    .dataframe tbody tr th:only-of-type {\n",
       "        vertical-align: middle;\n",
       "    }\n",
       "\n",
       "    .dataframe tbody tr th {\n",
       "        vertical-align: top;\n",
       "    }\n",
       "\n",
       "    .dataframe thead th {\n",
       "        text-align: right;\n",
       "    }\n",
       "</style>\n",
       "<table border=\"1\" class=\"dataframe\">\n",
       "  <thead>\n",
       "    <tr style=\"text-align: right;\">\n",
       "      <th></th>\n",
       "      <th>ambient</th>\n",
       "      <th>coolant</th>\n",
       "      <th>u_d</th>\n",
       "      <th>u_q</th>\n",
       "      <th>motor_speed</th>\n",
       "      <th>torque</th>\n",
       "      <th>i_d</th>\n",
       "      <th>i_q</th>\n",
       "      <th>stator_yoke</th>\n",
       "      <th>stator_tooth</th>\n",
       "      <th>stator_winding</th>\n",
       "      <th>pm</th>\n",
       "    </tr>\n",
       "  </thead>\n",
       "  <tbody>\n",
       "    <tr>\n",
       "      <th>0</th>\n",
       "      <td>-0.752143</td>\n",
       "      <td>-1.118446</td>\n",
       "      <td>0.327935</td>\n",
       "      <td>-1.297858</td>\n",
       "      <td>-1.222428</td>\n",
       "      <td>-0.250182</td>\n",
       "      <td>1.029572</td>\n",
       "      <td>-0.245860</td>\n",
       "      <td>-1.831422</td>\n",
       "      <td>-2.066143</td>\n",
       "      <td>-2.018033</td>\n",
       "      <td>-2.522071</td>\n",
       "    </tr>\n",
       "    <tr>\n",
       "      <th>1</th>\n",
       "      <td>-0.782892</td>\n",
       "      <td>-1.116681</td>\n",
       "      <td>0.332771</td>\n",
       "      <td>-1.301822</td>\n",
       "      <td>-1.222428</td>\n",
       "      <td>-0.249431</td>\n",
       "      <td>1.029448</td>\n",
       "      <td>-0.245818</td>\n",
       "      <td>-1.830400</td>\n",
       "      <td>-2.064073</td>\n",
       "      <td>-2.017343</td>\n",
       "      <td>-2.522673</td>\n",
       "    </tr>\n",
       "    <tr>\n",
       "      <th>2</th>\n",
       "      <td>-0.780935</td>\n",
       "      <td>-1.116764</td>\n",
       "      <td>0.333700</td>\n",
       "      <td>-1.301852</td>\n",
       "      <td>-1.222430</td>\n",
       "      <td>-0.248636</td>\n",
       "      <td>1.032845</td>\n",
       "      <td>-0.246955</td>\n",
       "      <td>-1.830333</td>\n",
       "      <td>-2.063137</td>\n",
       "      <td>-2.017632</td>\n",
       "      <td>-2.521639</td>\n",
       "    </tr>\n",
       "    <tr>\n",
       "      <th>3</th>\n",
       "      <td>-0.774043</td>\n",
       "      <td>-1.116775</td>\n",
       "      <td>0.335206</td>\n",
       "      <td>-1.303118</td>\n",
       "      <td>-1.222429</td>\n",
       "      <td>-0.248701</td>\n",
       "      <td>1.031807</td>\n",
       "      <td>-0.246610</td>\n",
       "      <td>-1.830498</td>\n",
       "      <td>-2.062795</td>\n",
       "      <td>-2.018145</td>\n",
       "      <td>-2.521900</td>\n",
       "    </tr>\n",
       "    <tr>\n",
       "      <th>4</th>\n",
       "      <td>-0.762936</td>\n",
       "      <td>-1.116955</td>\n",
       "      <td>0.334901</td>\n",
       "      <td>-1.303017</td>\n",
       "      <td>-1.222429</td>\n",
       "      <td>-0.248197</td>\n",
       "      <td>1.031031</td>\n",
       "      <td>-0.246341</td>\n",
       "      <td>-1.831931</td>\n",
       "      <td>-2.062549</td>\n",
       "      <td>-2.017884</td>\n",
       "      <td>-2.522203</td>\n",
       "    </tr>\n",
       "  </tbody>\n",
       "</table>\n",
       "</div>"
      ],
      "text/plain": [
       "    ambient   coolant       u_d       u_q  motor_speed    torque       i_d  \\\n",
       "0 -0.752143 -1.118446  0.327935 -1.297858    -1.222428 -0.250182  1.029572   \n",
       "1 -0.782892 -1.116681  0.332771 -1.301822    -1.222428 -0.249431  1.029448   \n",
       "2 -0.780935 -1.116764  0.333700 -1.301852    -1.222430 -0.248636  1.032845   \n",
       "3 -0.774043 -1.116775  0.335206 -1.303118    -1.222429 -0.248701  1.031807   \n",
       "4 -0.762936 -1.116955  0.334901 -1.303017    -1.222429 -0.248197  1.031031   \n",
       "\n",
       "        i_q  stator_yoke  stator_tooth  stator_winding        pm  \n",
       "0 -0.245860    -1.831422     -2.066143       -2.018033 -2.522071  \n",
       "1 -0.245818    -1.830400     -2.064073       -2.017343 -2.522673  \n",
       "2 -0.246955    -1.830333     -2.063137       -2.017632 -2.521639  \n",
       "3 -0.246610    -1.830498     -2.062795       -2.018145 -2.521900  \n",
       "4 -0.246341    -1.831931     -2.062549       -2.017884 -2.522203  "
      ]
     },
     "execution_count": 3,
     "metadata": {},
     "output_type": "execute_result"
    }
   ],
   "source": [
    "dataset.head(5)"
   ]
  },
  {
   "cell_type": "code",
   "execution_count": 4,
   "id": "domestic-terrorist",
   "metadata": {},
   "outputs": [
    {
     "data": {
      "text/html": [
       "<div>\n",
       "<style scoped>\n",
       "    .dataframe tbody tr th:only-of-type {\n",
       "        vertical-align: middle;\n",
       "    }\n",
       "\n",
       "    .dataframe tbody tr th {\n",
       "        vertical-align: top;\n",
       "    }\n",
       "\n",
       "    .dataframe thead th {\n",
       "        text-align: right;\n",
       "    }\n",
       "</style>\n",
       "<table border=\"1\" class=\"dataframe\">\n",
       "  <thead>\n",
       "    <tr style=\"text-align: right;\">\n",
       "      <th></th>\n",
       "      <th>ambient</th>\n",
       "      <th>coolant</th>\n",
       "      <th>u_d</th>\n",
       "      <th>u_q</th>\n",
       "      <th>motor_speed</th>\n",
       "      <th>torque</th>\n",
       "      <th>i_d</th>\n",
       "      <th>i_q</th>\n",
       "      <th>stator_yoke</th>\n",
       "      <th>stator_tooth</th>\n",
       "      <th>stator_winding</th>\n",
       "      <th>pm</th>\n",
       "    </tr>\n",
       "  </thead>\n",
       "  <tbody>\n",
       "    <tr>\n",
       "      <th>698644</th>\n",
       "      <td>-0.056077</td>\n",
       "      <td>0.422167</td>\n",
       "      <td>0.331787</td>\n",
       "      <td>-1.246931</td>\n",
       "      <td>-1.222431</td>\n",
       "      <td>-0.25564</td>\n",
       "      <td>1.029193</td>\n",
       "      <td>-0.245708</td>\n",
       "      <td>1.060052</td>\n",
       "      <td>0.840832</td>\n",
       "      <td>0.497372</td>\n",
       "      <td>0.430151</td>\n",
       "    </tr>\n",
       "    <tr>\n",
       "      <th>698645</th>\n",
       "      <td>-0.047497</td>\n",
       "      <td>0.341638</td>\n",
       "      <td>0.331475</td>\n",
       "      <td>-1.246114</td>\n",
       "      <td>-1.222428</td>\n",
       "      <td>-0.25564</td>\n",
       "      <td>1.029142</td>\n",
       "      <td>-0.245723</td>\n",
       "      <td>1.018568</td>\n",
       "      <td>0.836084</td>\n",
       "      <td>0.494725</td>\n",
       "      <td>0.429853</td>\n",
       "    </tr>\n",
       "    <tr>\n",
       "      <th>698646</th>\n",
       "      <td>-0.048839</td>\n",
       "      <td>0.320022</td>\n",
       "      <td>0.331701</td>\n",
       "      <td>-1.250655</td>\n",
       "      <td>-1.222437</td>\n",
       "      <td>-0.25564</td>\n",
       "      <td>1.029148</td>\n",
       "      <td>-0.245736</td>\n",
       "      <td>1.013416</td>\n",
       "      <td>0.834438</td>\n",
       "      <td>0.494279</td>\n",
       "      <td>0.429751</td>\n",
       "    </tr>\n",
       "    <tr>\n",
       "      <th>698647</th>\n",
       "      <td>-0.042350</td>\n",
       "      <td>0.307415</td>\n",
       "      <td>0.330946</td>\n",
       "      <td>-1.246852</td>\n",
       "      <td>-1.222430</td>\n",
       "      <td>-0.25564</td>\n",
       "      <td>1.029191</td>\n",
       "      <td>-0.245701</td>\n",
       "      <td>1.002906</td>\n",
       "      <td>0.833936</td>\n",
       "      <td>0.492666</td>\n",
       "      <td>0.429439</td>\n",
       "    </tr>\n",
       "    <tr>\n",
       "      <th>698648</th>\n",
       "      <td>-0.043803</td>\n",
       "      <td>0.312666</td>\n",
       "      <td>0.330829</td>\n",
       "      <td>-1.246590</td>\n",
       "      <td>-1.222431</td>\n",
       "      <td>-0.25564</td>\n",
       "      <td>1.029141</td>\n",
       "      <td>-0.245722</td>\n",
       "      <td>0.987163</td>\n",
       "      <td>0.828046</td>\n",
       "      <td>0.489382</td>\n",
       "      <td>0.429166</td>\n",
       "    </tr>\n",
       "  </tbody>\n",
       "</table>\n",
       "</div>"
      ],
      "text/plain": [
       "         ambient   coolant       u_d       u_q  motor_speed   torque  \\\n",
       "698644 -0.056077  0.422167  0.331787 -1.246931    -1.222431 -0.25564   \n",
       "698645 -0.047497  0.341638  0.331475 -1.246114    -1.222428 -0.25564   \n",
       "698646 -0.048839  0.320022  0.331701 -1.250655    -1.222437 -0.25564   \n",
       "698647 -0.042350  0.307415  0.330946 -1.246852    -1.222430 -0.25564   \n",
       "698648 -0.043803  0.312666  0.330829 -1.246590    -1.222431 -0.25564   \n",
       "\n",
       "             i_d       i_q  stator_yoke  stator_tooth  stator_winding  \\\n",
       "698644  1.029193 -0.245708     1.060052      0.840832        0.497372   \n",
       "698645  1.029142 -0.245723     1.018568      0.836084        0.494725   \n",
       "698646  1.029148 -0.245736     1.013416      0.834438        0.494279   \n",
       "698647  1.029191 -0.245701     1.002906      0.833936        0.492666   \n",
       "698648  1.029141 -0.245722     0.987163      0.828046        0.489382   \n",
       "\n",
       "              pm  \n",
       "698644  0.430151  \n",
       "698645  0.429853  \n",
       "698646  0.429751  \n",
       "698647  0.429439  \n",
       "698648  0.429166  "
      ]
     },
     "execution_count": 4,
     "metadata": {},
     "output_type": "execute_result"
    }
   ],
   "source": [
    "dataset.tail(5)"
   ]
  },
  {
   "cell_type": "code",
   "execution_count": 5,
   "id": "continuous-chancellor",
   "metadata": {},
   "outputs": [
    {
     "data": {
      "text/plain": [
       "(698649, 12)"
      ]
     },
     "execution_count": 5,
     "metadata": {},
     "output_type": "execute_result"
    }
   ],
   "source": [
    "dataset.shape"
   ]
  },
  {
   "cell_type": "code",
   "execution_count": 6,
   "id": "capable-badge",
   "metadata": {},
   "outputs": [
    {
     "data": {
      "text/html": [
       "<div>\n",
       "<style scoped>\n",
       "    .dataframe tbody tr th:only-of-type {\n",
       "        vertical-align: middle;\n",
       "    }\n",
       "\n",
       "    .dataframe tbody tr th {\n",
       "        vertical-align: top;\n",
       "    }\n",
       "\n",
       "    .dataframe thead th {\n",
       "        text-align: right;\n",
       "    }\n",
       "</style>\n",
       "<table border=\"1\" class=\"dataframe\">\n",
       "  <thead>\n",
       "    <tr style=\"text-align: right;\">\n",
       "      <th></th>\n",
       "      <th>ambient</th>\n",
       "      <th>coolant</th>\n",
       "      <th>u_d</th>\n",
       "      <th>u_q</th>\n",
       "      <th>motor_speed</th>\n",
       "      <th>torque</th>\n",
       "      <th>i_d</th>\n",
       "      <th>i_q</th>\n",
       "      <th>stator_yoke</th>\n",
       "      <th>stator_tooth</th>\n",
       "      <th>stator_winding</th>\n",
       "      <th>pm</th>\n",
       "    </tr>\n",
       "  </thead>\n",
       "  <tbody>\n",
       "    <tr>\n",
       "      <th>count</th>\n",
       "      <td>698649.000000</td>\n",
       "      <td>698649.000000</td>\n",
       "      <td>698649.000000</td>\n",
       "      <td>698649.000000</td>\n",
       "      <td>698649.000000</td>\n",
       "      <td>698649.000000</td>\n",
       "      <td>698649.000000</td>\n",
       "      <td>698649.000000</td>\n",
       "      <td>698649.000000</td>\n",
       "      <td>698649.000000</td>\n",
       "      <td>698649.000000</td>\n",
       "      <td>698649.000000</td>\n",
       "    </tr>\n",
       "    <tr>\n",
       "      <th>mean</th>\n",
       "      <td>-0.003129</td>\n",
       "      <td>0.004779</td>\n",
       "      <td>0.004275</td>\n",
       "      <td>-0.005819</td>\n",
       "      <td>-0.006024</td>\n",
       "      <td>-0.002985</td>\n",
       "      <td>0.005794</td>\n",
       "      <td>-0.002809</td>\n",
       "      <td>0.000623</td>\n",
       "      <td>-0.002212</td>\n",
       "      <td>-0.003988</td>\n",
       "      <td>-0.004385</td>\n",
       "    </tr>\n",
       "    <tr>\n",
       "      <th>std</th>\n",
       "      <td>0.992710</td>\n",
       "      <td>1.002086</td>\n",
       "      <td>0.997729</td>\n",
       "      <td>1.002404</td>\n",
       "      <td>1.001700</td>\n",
       "      <td>0.997403</td>\n",
       "      <td>0.999005</td>\n",
       "      <td>0.997375</td>\n",
       "      <td>1.001119</td>\n",
       "      <td>0.999732</td>\n",
       "      <td>0.998443</td>\n",
       "      <td>0.995450</td>\n",
       "    </tr>\n",
       "    <tr>\n",
       "      <th>min</th>\n",
       "      <td>-7.968341</td>\n",
       "      <td>-1.367800</td>\n",
       "      <td>-1.654878</td>\n",
       "      <td>-1.861463</td>\n",
       "      <td>-1.371529</td>\n",
       "      <td>-3.345953</td>\n",
       "      <td>-3.245874</td>\n",
       "      <td>-3.341639</td>\n",
       "      <td>-1.834688</td>\n",
       "      <td>-2.066143</td>\n",
       "      <td>-2.019973</td>\n",
       "      <td>-2.631991</td>\n",
       "    </tr>\n",
       "    <tr>\n",
       "      <th>25%</th>\n",
       "      <td>-0.598182</td>\n",
       "      <td>-1.037856</td>\n",
       "      <td>-0.827631</td>\n",
       "      <td>-0.927994</td>\n",
       "      <td>-0.951892</td>\n",
       "      <td>-0.266604</td>\n",
       "      <td>-0.756753</td>\n",
       "      <td>-0.257268</td>\n",
       "      <td>-0.747074</td>\n",
       "      <td>-0.761951</td>\n",
       "      <td>-0.725651</td>\n",
       "      <td>-0.671621</td>\n",
       "    </tr>\n",
       "    <tr>\n",
       "      <th>50%</th>\n",
       "      <td>0.266325</td>\n",
       "      <td>-0.176651</td>\n",
       "      <td>0.267501</td>\n",
       "      <td>-0.099512</td>\n",
       "      <td>-0.140246</td>\n",
       "      <td>-0.187167</td>\n",
       "      <td>0.213188</td>\n",
       "      <td>-0.188490</td>\n",
       "      <td>-0.057264</td>\n",
       "      <td>0.005240</td>\n",
       "      <td>0.006893</td>\n",
       "      <td>0.094138</td>\n",
       "    </tr>\n",
       "    <tr>\n",
       "      <th>75%</th>\n",
       "      <td>0.686697</td>\n",
       "      <td>0.648482</td>\n",
       "      <td>0.358460</td>\n",
       "      <td>0.852677</td>\n",
       "      <td>0.855411</td>\n",
       "      <td>0.547458</td>\n",
       "      <td>1.013975</td>\n",
       "      <td>0.499623</td>\n",
       "      <td>0.697432</td>\n",
       "      <td>0.772349</td>\n",
       "      <td>0.725208</td>\n",
       "      <td>0.680431</td>\n",
       "    </tr>\n",
       "    <tr>\n",
       "      <th>max</th>\n",
       "      <td>2.967117</td>\n",
       "      <td>2.649032</td>\n",
       "      <td>2.274734</td>\n",
       "      <td>1.793498</td>\n",
       "      <td>2.024151</td>\n",
       "      <td>3.016895</td>\n",
       "      <td>1.060937</td>\n",
       "      <td>2.914185</td>\n",
       "      <td>2.449158</td>\n",
       "      <td>2.326668</td>\n",
       "      <td>2.651810</td>\n",
       "      <td>2.917456</td>\n",
       "    </tr>\n",
       "  </tbody>\n",
       "</table>\n",
       "</div>"
      ],
      "text/plain": [
       "             ambient        coolant            u_d            u_q  \\\n",
       "count  698649.000000  698649.000000  698649.000000  698649.000000   \n",
       "mean       -0.003129       0.004779       0.004275      -0.005819   \n",
       "std         0.992710       1.002086       0.997729       1.002404   \n",
       "min        -7.968341      -1.367800      -1.654878      -1.861463   \n",
       "25%        -0.598182      -1.037856      -0.827631      -0.927994   \n",
       "50%         0.266325      -0.176651       0.267501      -0.099512   \n",
       "75%         0.686697       0.648482       0.358460       0.852677   \n",
       "max         2.967117       2.649032       2.274734       1.793498   \n",
       "\n",
       "         motor_speed         torque            i_d            i_q  \\\n",
       "count  698649.000000  698649.000000  698649.000000  698649.000000   \n",
       "mean       -0.006024      -0.002985       0.005794      -0.002809   \n",
       "std         1.001700       0.997403       0.999005       0.997375   \n",
       "min        -1.371529      -3.345953      -3.245874      -3.341639   \n",
       "25%        -0.951892      -0.266604      -0.756753      -0.257268   \n",
       "50%        -0.140246      -0.187167       0.213188      -0.188490   \n",
       "75%         0.855411       0.547458       1.013975       0.499623   \n",
       "max         2.024151       3.016895       1.060937       2.914185   \n",
       "\n",
       "         stator_yoke   stator_tooth  stator_winding             pm  \n",
       "count  698649.000000  698649.000000   698649.000000  698649.000000  \n",
       "mean        0.000623      -0.002212       -0.003988      -0.004385  \n",
       "std         1.001119       0.999732        0.998443       0.995450  \n",
       "min        -1.834688      -2.066143       -2.019973      -2.631991  \n",
       "25%        -0.747074      -0.761951       -0.725651      -0.671621  \n",
       "50%        -0.057264       0.005240        0.006893       0.094138  \n",
       "75%         0.697432       0.772349        0.725208       0.680431  \n",
       "max         2.449158       2.326668        2.651810       2.917456  "
      ]
     },
     "execution_count": 6,
     "metadata": {},
     "output_type": "execute_result"
    }
   ],
   "source": [
    "dataset.describe()"
   ]
  },
  {
   "cell_type": "code",
   "execution_count": 7,
   "id": "blocked-thompson",
   "metadata": {},
   "outputs": [
    {
     "name": "stdout",
     "output_type": "stream",
     "text": [
      "<class 'pandas.core.frame.DataFrame'>\n",
      "RangeIndex: 698649 entries, 0 to 698648\n",
      "Data columns (total 12 columns):\n",
      " #   Column          Non-Null Count   Dtype  \n",
      "---  ------          --------------   -----  \n",
      " 0   ambient         698649 non-null  float64\n",
      " 1   coolant         698649 non-null  float64\n",
      " 2   u_d             698649 non-null  float64\n",
      " 3   u_q             698649 non-null  float64\n",
      " 4   motor_speed     698649 non-null  float64\n",
      " 5   torque          698649 non-null  float64\n",
      " 6   i_d             698649 non-null  float64\n",
      " 7   i_q             698649 non-null  float64\n",
      " 8   stator_yoke     698649 non-null  float64\n",
      " 9   stator_tooth    698649 non-null  float64\n",
      " 10  stator_winding  698649 non-null  float64\n",
      " 11  pm              698649 non-null  float64\n",
      "dtypes: float64(12)\n",
      "memory usage: 64.0 MB\n"
     ]
    }
   ],
   "source": [
    "dataset.info()"
   ]
  },
  {
   "cell_type": "code",
   "execution_count": 8,
   "id": "dimensional-interest",
   "metadata": {},
   "outputs": [
    {
     "data": {
      "text/plain": [
       "Index(['ambient', 'coolant', 'u_d', 'u_q', 'motor_speed', 'torque', 'i_d',\n",
       "       'i_q', 'stator_yoke', 'stator_tooth', 'stator_winding', 'pm'],\n",
       "      dtype='object')"
      ]
     },
     "execution_count": 8,
     "metadata": {},
     "output_type": "execute_result"
    }
   ],
   "source": [
    "dataset.columns"
   ]
  },
  {
   "cell_type": "markdown",
   "id": "sonic-pilot",
   "metadata": {},
   "source": [
    "## correlation"
   ]
  },
  {
   "cell_type": "code",
   "execution_count": 9,
   "id": "official-efficiency",
   "metadata": {},
   "outputs": [
    {
     "data": {
      "image/png": "[encoded data removed]",
      "text/plain": [
       "<Figure size 864x576 with 2 Axes>"
      ]
     },
     "metadata": {
      "needs_background": "light"
     },
     "output_type": "display_data"
    }
   ],
   "source": [
    "# checking the correlation (Pearson's coeff)\n",
    "corr_matrix = dataset.corr()\n",
    "f,ax  = plt.subplots(figsize=(12,8))\n",
    "sns.heatmap(corr_matrix, annot=True,linewidths=.5,annot_kws={\"size\": 13}, ax=ax, cmap = sns.cubehelix_palette(8, start=.5, rot=-.75))\n",
    "plt.show()"
   ]
  },
  {
   "cell_type": "markdown",
   "id": "administrative-creature",
   "metadata": {},
   "source": [
    "### Method 1 [ Remove only those variable who have high linear correlation with target variables]"
   ]
  },
  {
   "cell_type": "code",
   "execution_count": 10,
   "id": "hispanic-montreal",
   "metadata": {},
   "outputs": [
    {
     "name": "stdout",
     "output_type": "stream",
     "text": [
      "correlation for \n"
     ]
    },
    {
     "data": {
      "text/plain": [
       "pm                1.000000\n",
       "stator_tooth      0.768570\n",
       "stator_winding    0.729916\n",
       "stator_yoke       0.695267\n",
       "ambient           0.501772\n",
       "Name: pm, dtype: float64"
      ]
     },
     "execution_count": 10,
     "metadata": {},
     "output_type": "execute_result"
    }
   ],
   "source": [
    "# linear correlation for \"pm\" target\n",
    "\n",
    "cpm = corr_matrix[\"pm\"].sort_values(ascending=False)\n",
    "print(\"correlation for \")\n",
    "cpm[cpm >= 0.5] # 0.5 for medium or high linear correlation"
   ]
  },
  {
   "cell_type": "code",
   "execution_count": 11,
   "id": "lesser-harassment",
   "metadata": {},
   "outputs": [],
   "source": [
    "## So we vcan remove stator_tooth ,stator_winding,stator_yoke from dataset       "
   ]
  },
  {
   "cell_type": "code",
   "execution_count": 12,
   "id": "apparent-thunder",
   "metadata": {},
   "outputs": [
    {
     "name": "stdout",
     "output_type": "stream",
     "text": [
      "    ambient   coolant       u_d       u_q  motor_speed    torque       i_d  \\\n",
      "0 -0.752143 -1.118446  0.327935 -1.297858    -1.222428 -0.250182  1.029572   \n",
      "1 -0.782892 -1.116681  0.332771 -1.301822    -1.222428 -0.249431  1.029448   \n",
      "2 -0.780935 -1.116764  0.333700 -1.301852    -1.222430 -0.248636  1.032845   \n",
      "3 -0.774043 -1.116775  0.335206 -1.303118    -1.222429 -0.248701  1.031807   \n",
      "4 -0.762936 -1.116955  0.334901 -1.303017    -1.222429 -0.248197  1.031031   \n",
      "\n",
      "        i_q        pm  \n",
      "0 -0.245860 -2.522071  \n",
      "1 -0.245818 -2.522673  \n",
      "2 -0.246955 -2.521639  \n",
      "3 -0.246610 -2.521900  \n",
      "4 -0.246341 -2.522203  \n"
     ]
    }
   ],
   "source": [
    "dataset_drop_correlation_method_1 = dataset.drop(dataset[['stator_tooth' , 'stator_winding','stator_yoke']], axis=1)\n",
    "print(dataset_drop_correlation_method_1.head())"
   ]
  },
  {
   "cell_type": "markdown",
   "id": "liked-wages",
   "metadata": {},
   "source": [
    "### Method 2 [ Remove only those variable who have high linear correlation with all the variables]"
   ]
  },
  {
   "cell_type": "code",
   "execution_count": 13,
   "id": "surprising-alcohol",
   "metadata": {},
   "outputs": [
    {
     "name": "stdout",
     "output_type": "stream",
     "text": [
      "                ambient  coolant       u_d       u_q  motor_speed    torque  \\\n",
      "ambient             NaN  0.43407  0.195035  0.087877     0.078842 -0.262591   \n",
      "coolant             NaN      NaN  0.178710  0.027681    -0.032963 -0.189276   \n",
      "u_d                 NaN      NaN       NaN -0.027819    -0.234200 -0.821098   \n",
      "u_q                 NaN      NaN       NaN       NaN     0.717111 -0.037028   \n",
      "motor_speed         NaN      NaN       NaN       NaN          NaN  0.024583   \n",
      "torque              NaN      NaN       NaN       NaN          NaN       NaN   \n",
      "i_d                 NaN      NaN       NaN       NaN          NaN       NaN   \n",
      "i_q                 NaN      NaN       NaN       NaN          NaN       NaN   \n",
      "stator_yoke         NaN      NaN       NaN       NaN          NaN       NaN   \n",
      "stator_tooth        NaN      NaN       NaN       NaN          NaN       NaN   \n",
      "stator_winding      NaN      NaN       NaN       NaN          NaN       NaN   \n",
      "pm                  NaN      NaN       NaN       NaN          NaN       NaN   \n",
      "\n",
      "                     i_d       i_q  stator_yoke  stator_tooth  stator_winding  \\\n",
      "ambient         0.005567 -0.260852     0.451555      0.396907        0.302270   \n",
      "coolant         0.107858 -0.185776     0.874034      0.689205        0.509759   \n",
      "u_d             0.358674 -0.796324     0.041710     -0.065836       -0.150296   \n",
      "u_q            -0.182545 -0.026160     0.106183      0.149082        0.125601   \n",
      "motor_speed    -0.723145  0.006349     0.182961      0.334283        0.393611   \n",
      "torque         -0.238838  0.996565    -0.092276     -0.011416        0.080399   \n",
      "i_d                  NaN -0.204010    -0.180409     -0.388120       -0.540351   \n",
      "i_q                  NaN       NaN    -0.098888     -0.025615        0.060306   \n",
      "stator_yoke          NaN       NaN          NaN      0.949960        0.845375   \n",
      "stator_tooth         NaN       NaN          NaN           NaN        0.965700   \n",
      "stator_winding       NaN       NaN          NaN           NaN             NaN   \n",
      "pm                   NaN       NaN          NaN           NaN             NaN   \n",
      "\n",
      "                      pm  \n",
      "ambient         0.501772  \n",
      "coolant         0.430885  \n",
      "u_d            -0.082117  \n",
      "u_q             0.101475  \n",
      "motor_speed     0.332852  \n",
      "torque         -0.073057  \n",
      "i_d            -0.299330  \n",
      "i_q            -0.086657  \n",
      "stator_yoke     0.695267  \n",
      "stator_tooth    0.768570  \n",
      "stator_winding  0.729916  \n",
      "pm                   NaN  \n"
     ]
    }
   ],
   "source": [
    "upper_tri = corr_matrix.where(np.triu(np.ones(corr_matrix.shape),k=1).astype(np.bool))\n",
    "print(upper_tri)"
   ]
  },
  {
   "cell_type": "code",
   "execution_count": 14,
   "id": "temporal-execution",
   "metadata": {},
   "outputs": [
    {
     "name": "stdout",
     "output_type": "stream",
     "text": [
      "\n",
      "['i_q', 'stator_winding']\n"
     ]
    }
   ],
   "source": [
    "to_drop = [column for column in upper_tri.columns if any(upper_tri[column] > 0.95)]\n",
    "print(); print(to_drop)"
   ]
  },
  {
   "cell_type": "code",
   "execution_count": 15,
   "id": "seasonal-playback",
   "metadata": {},
   "outputs": [],
   "source": [
    "#dataset[['i_q', 'stator_winding']]"
   ]
  },
  {
   "cell_type": "code",
   "execution_count": 16,
   "id": "secondary-psychology",
   "metadata": {},
   "outputs": [
    {
     "name": "stdout",
     "output_type": "stream",
     "text": [
      "    ambient   coolant       u_d       u_q  motor_speed    torque       i_d  \\\n",
      "0 -0.752143 -1.118446  0.327935 -1.297858    -1.222428 -0.250182  1.029572   \n",
      "1 -0.782892 -1.116681  0.332771 -1.301822    -1.222428 -0.249431  1.029448   \n",
      "2 -0.780935 -1.116764  0.333700 -1.301852    -1.222430 -0.248636  1.032845   \n",
      "3 -0.774043 -1.116775  0.335206 -1.303118    -1.222429 -0.248701  1.031807   \n",
      "4 -0.762936 -1.116955  0.334901 -1.303017    -1.222429 -0.248197  1.031031   \n",
      "\n",
      "   stator_yoke  stator_tooth        pm  \n",
      "0    -1.831422     -2.066143 -2.522071  \n",
      "1    -1.830400     -2.064073 -2.522673  \n",
      "2    -1.830333     -2.063137 -2.521639  \n",
      "3    -1.830498     -2.062795 -2.521900  \n",
      "4    -1.831931     -2.062549 -2.522203  \n"
     ]
    }
   ],
   "source": [
    "dataset_drop_correlation = dataset.drop(dataset[['i_q', 'stator_winding']], axis=1)\n",
    "print(dataset_drop_correlation.head())"
   ]
  },
  {
   "cell_type": "code",
   "execution_count": 17,
   "id": "certified-recognition",
   "metadata": {},
   "outputs": [
    {
     "data": {
      "text/html": [
       "<div>\n",
       "<style scoped>\n",
       "    .dataframe tbody tr th:only-of-type {\n",
       "        vertical-align: middle;\n",
       "    }\n",
       "\n",
       "    .dataframe tbody tr th {\n",
       "        vertical-align: top;\n",
       "    }\n",
       "\n",
       "    .dataframe thead th {\n",
       "        text-align: right;\n",
       "    }\n",
       "</style>\n",
       "<table border=\"1\" class=\"dataframe\">\n",
       "  <thead>\n",
       "    <tr style=\"text-align: right;\">\n",
       "      <th></th>\n",
       "      <th>ambient</th>\n",
       "      <th>coolant</th>\n",
       "      <th>u_d</th>\n",
       "      <th>u_q</th>\n",
       "      <th>motor_speed</th>\n",
       "      <th>torque</th>\n",
       "      <th>i_d</th>\n",
       "      <th>stator_yoke</th>\n",
       "      <th>stator_tooth</th>\n",
       "      <th>pm</th>\n",
       "    </tr>\n",
       "  </thead>\n",
       "  <tbody>\n",
       "    <tr>\n",
       "      <th>0</th>\n",
       "      <td>-0.752143</td>\n",
       "      <td>-1.118446</td>\n",
       "      <td>0.327935</td>\n",
       "      <td>-1.297858</td>\n",
       "      <td>-1.222428</td>\n",
       "      <td>-0.250182</td>\n",
       "      <td>1.029572</td>\n",
       "      <td>-1.831422</td>\n",
       "      <td>-2.066143</td>\n",
       "      <td>-2.522071</td>\n",
       "    </tr>\n",
       "    <tr>\n",
       "      <th>1</th>\n",
       "      <td>-0.782892</td>\n",
       "      <td>-1.116681</td>\n",
       "      <td>0.332771</td>\n",
       "      <td>-1.301822</td>\n",
       "      <td>-1.222428</td>\n",
       "      <td>-0.249431</td>\n",
       "      <td>1.029448</td>\n",
       "      <td>-1.830400</td>\n",
       "      <td>-2.064073</td>\n",
       "      <td>-2.522673</td>\n",
       "    </tr>\n",
       "    <tr>\n",
       "      <th>2</th>\n",
       "      <td>-0.780935</td>\n",
       "      <td>-1.116764</td>\n",
       "      <td>0.333700</td>\n",
       "      <td>-1.301852</td>\n",
       "      <td>-1.222430</td>\n",
       "      <td>-0.248636</td>\n",
       "      <td>1.032845</td>\n",
       "      <td>-1.830333</td>\n",
       "      <td>-2.063137</td>\n",
       "      <td>-2.521639</td>\n",
       "    </tr>\n",
       "    <tr>\n",
       "      <th>3</th>\n",
       "      <td>-0.774043</td>\n",
       "      <td>-1.116775</td>\n",
       "      <td>0.335206</td>\n",
       "      <td>-1.303118</td>\n",
       "      <td>-1.222429</td>\n",
       "      <td>-0.248701</td>\n",
       "      <td>1.031807</td>\n",
       "      <td>-1.830498</td>\n",
       "      <td>-2.062795</td>\n",
       "      <td>-2.521900</td>\n",
       "    </tr>\n",
       "    <tr>\n",
       "      <th>4</th>\n",
       "      <td>-0.762936</td>\n",
       "      <td>-1.116955</td>\n",
       "      <td>0.334901</td>\n",
       "      <td>-1.303017</td>\n",
       "      <td>-1.222429</td>\n",
       "      <td>-0.248197</td>\n",
       "      <td>1.031031</td>\n",
       "      <td>-1.831931</td>\n",
       "      <td>-2.062549</td>\n",
       "      <td>-2.522203</td>\n",
       "    </tr>\n",
       "  </tbody>\n",
       "</table>\n",
       "</div>"
      ],
      "text/plain": [
       "    ambient   coolant       u_d       u_q  motor_speed    torque       i_d  \\\n",
       "0 -0.752143 -1.118446  0.327935 -1.297858    -1.222428 -0.250182  1.029572   \n",
       "1 -0.782892 -1.116681  0.332771 -1.301822    -1.222428 -0.249431  1.029448   \n",
       "2 -0.780935 -1.116764  0.333700 -1.301852    -1.222430 -0.248636  1.032845   \n",
       "3 -0.774043 -1.116775  0.335206 -1.303118    -1.222429 -0.248701  1.031807   \n",
       "4 -0.762936 -1.116955  0.334901 -1.303017    -1.222429 -0.248197  1.031031   \n",
       "\n",
       "   stator_yoke  stator_tooth        pm  \n",
       "0    -1.831422     -2.066143 -2.522071  \n",
       "1    -1.830400     -2.064073 -2.522673  \n",
       "2    -1.830333     -2.063137 -2.521639  \n",
       "3    -1.830498     -2.062795 -2.521900  \n",
       "4    -1.831931     -2.062549 -2.522203  "
      ]
     },
     "execution_count": 17,
     "metadata": {},
     "output_type": "execute_result"
    }
   ],
   "source": [
    "dataset_drop_correlation.head()"
   ]
  },
  {
   "cell_type": "markdown",
   "id": "animal-nepal",
   "metadata": {},
   "source": [
    "## Plot"
   ]
  },
  {
   "cell_type": "markdown",
   "id": "dutch-engineer",
   "metadata": {},
   "source": [
    "## HISTOGRAM to check the data  is normally distributed"
   ]
  },
  {
   "cell_type": "code",
   "execution_count": 18,
   "id": "usual-israeli",
   "metadata": {},
   "outputs": [
    {
     "data": {
      "image/png": "[encoded data removed]",
      "text/plain": [
       "<Figure size 1440x1440 with 12 Axes>"
      ]
     },
     "metadata": {
      "needs_background": "light"
     },
     "output_type": "display_data"
    }
   ],
   "source": [
    "dataset.hist(figsize = (20,20))\n",
    "plt.show()"
   ]
  },
  {
   "cell_type": "code",
   "execution_count": 19,
   "id": "solved-freeze",
   "metadata": {},
   "outputs": [
    {
     "data": {
      "image/png": "[encoded data removed]",
      "text/plain": [
       "<Figure size 1152x288 with 4 Axes>"
      ]
     },
     "metadata": {
      "needs_background": "light"
     },
     "output_type": "display_data"
    }
   ],
   "source": [
    "g = sns.PairGrid(dataset.sample(frac=0.01), y_vars=[\"pm\"],\n",
    "                 x_vars=[\"stator_tooth\", \"stator_winding\", \"stator_yoke\", \"ambient\"], height=4, palette=\"GnBu_d\")\n",
    "\n",
    "g.map(sns.regplot, scatter_kws={'s':1});"
   ]
  },
  {
   "cell_type": "code",
   "execution_count": 20,
   "id": "devoted-truck",
   "metadata": {},
   "outputs": [],
   "source": [
    "column = [\"stator_tooth\", \"stator_winding\", \"stator_yoke\", \"ambient\"]"
   ]
  },
  {
   "cell_type": "code",
   "execution_count": 21,
   "id": "elder-cherry",
   "metadata": {},
   "outputs": [
    {
     "data": {
      "image/png": "[encoded data removed]",
      "text/plain": [
       "<Figure size 360x1440 with 4 Axes>"
      ]
     },
     "metadata": {
      "needs_background": "light"
     },
     "output_type": "display_data"
    }
   ],
   "source": [
    "fig, axes = plt.subplots(nrows=4, figsize=(5,20))\n",
    "fig.subplots_adjust(hspace=0.2)\n",
    "\n",
    "for (ax, i) in zip(axes, column):\n",
    "    sns.violinplot(x=dataset[i], ax=ax)\n",
    "    plt.plot()"
   ]
  },
  {
   "cell_type": "code",
   "execution_count": null,
   "id": "second-episode",
   "metadata": {},
   "outputs": [],
   "source": []
  },
  {
   "cell_type": "code",
   "execution_count": 22,
   "id": "inside-detective",
   "metadata": {},
   "outputs": [
    {
     "data": {
      "image/png": "[encoded data removed]",
      "text/plain": [
       "<Figure size 432x288 with 1 Axes>"
      ]
     },
     "metadata": {
      "needs_background": "light"
     },
     "output_type": "display_data"
    }
   ],
   "source": [
    "dataset.plot(kind='scatter', x='ambient', y='pm') ;\n",
    "plt.show()"
   ]
  },
  {
   "cell_type": "code",
   "execution_count": 23,
   "id": "handy-approach",
   "metadata": {},
   "outputs": [
    {
     "data": {
      "text/plain": [
       "<seaborn.axisgrid.FacetGrid at 0x273eaed9490>"
      ]
     },
     "execution_count": 23,
     "metadata": {},
     "output_type": "execute_result"
    },
    {
     "data": {
      "image/png": "[encoded data removed]",
      "text/plain": [
       "<Figure size 360x360 with 1 Axes>"
      ]
     },
     "metadata": {
      "needs_background": "light"
     },
     "output_type": "display_data"
    }
   ],
   "source": [
    "sns.displot(dataset['ambient'].dropna(),kde=False,color='darkred',bins=40)"
   ]
  },
  {
   "cell_type": "code",
   "execution_count": 24,
   "id": "interesting-passport",
   "metadata": {},
   "outputs": [
    {
     "data": {
      "text/plain": [
       "<AxesSubplot:>"
      ]
     },
     "execution_count": 24,
     "metadata": {},
     "output_type": "execute_result"
    },
    {
     "data": {
      "image/png": "[encoded data removed]",
      "text/plain": [
       "<Figure size 576x288 with 1 Axes>"
      ]
     },
     "metadata": {
      "needs_background": "light"
     },
     "output_type": "display_data"
    }
   ],
   "source": [
    "dataset['ambient'].hist(color='green',bins=40,figsize=(8,4))"
   ]
  },
  {
   "cell_type": "markdown",
   "id": "blond-aggregate",
   "metadata": {},
   "source": [
    "## Missing Data"
   ]
  },
  {
   "cell_type": "code",
   "execution_count": 25,
   "id": "muslim-grave",
   "metadata": {},
   "outputs": [
    {
     "data": {
      "text/html": [
       "<div>\n",
       "<style scoped>\n",
       "    .dataframe tbody tr th:only-of-type {\n",
       "        vertical-align: middle;\n",
       "    }\n",
       "\n",
       "    .dataframe tbody tr th {\n",
       "        vertical-align: top;\n",
       "    }\n",
       "\n",
       "    .dataframe thead th {\n",
       "        text-align: right;\n",
       "    }\n",
       "</style>\n",
       "<table border=\"1\" class=\"dataframe\">\n",
       "  <thead>\n",
       "    <tr style=\"text-align: right;\">\n",
       "      <th></th>\n",
       "      <th>ambient</th>\n",
       "      <th>coolant</th>\n",
       "      <th>u_d</th>\n",
       "      <th>u_q</th>\n",
       "      <th>motor_speed</th>\n",
       "      <th>torque</th>\n",
       "      <th>i_d</th>\n",
       "      <th>i_q</th>\n",
       "      <th>stator_yoke</th>\n",
       "      <th>stator_tooth</th>\n",
       "      <th>stator_winding</th>\n",
       "      <th>pm</th>\n",
       "    </tr>\n",
       "  </thead>\n",
       "  <tbody>\n",
       "    <tr>\n",
       "      <th>0</th>\n",
       "      <td>False</td>\n",
       "      <td>False</td>\n",
       "      <td>False</td>\n",
       "      <td>False</td>\n",
       "      <td>False</td>\n",
       "      <td>False</td>\n",
       "      <td>False</td>\n",
       "      <td>False</td>\n",
       "      <td>False</td>\n",
       "      <td>False</td>\n",
       "      <td>False</td>\n",
       "      <td>False</td>\n",
       "    </tr>\n",
       "    <tr>\n",
       "      <th>1</th>\n",
       "      <td>False</td>\n",
       "      <td>False</td>\n",
       "      <td>False</td>\n",
       "      <td>False</td>\n",
       "      <td>False</td>\n",
       "      <td>False</td>\n",
       "      <td>False</td>\n",
       "      <td>False</td>\n",
       "      <td>False</td>\n",
       "      <td>False</td>\n",
       "      <td>False</td>\n",
       "      <td>False</td>\n",
       "    </tr>\n",
       "    <tr>\n",
       "      <th>2</th>\n",
       "      <td>False</td>\n",
       "      <td>False</td>\n",
       "      <td>False</td>\n",
       "      <td>False</td>\n",
       "      <td>False</td>\n",
       "      <td>False</td>\n",
       "      <td>False</td>\n",
       "      <td>False</td>\n",
       "      <td>False</td>\n",
       "      <td>False</td>\n",
       "      <td>False</td>\n",
       "      <td>False</td>\n",
       "    </tr>\n",
       "    <tr>\n",
       "      <th>3</th>\n",
       "      <td>False</td>\n",
       "      <td>False</td>\n",
       "      <td>False</td>\n",
       "      <td>False</td>\n",
       "      <td>False</td>\n",
       "      <td>False</td>\n",
       "      <td>False</td>\n",
       "      <td>False</td>\n",
       "      <td>False</td>\n",
       "      <td>False</td>\n",
       "      <td>False</td>\n",
       "      <td>False</td>\n",
       "    </tr>\n",
       "    <tr>\n",
       "      <th>4</th>\n",
       "      <td>False</td>\n",
       "      <td>False</td>\n",
       "      <td>False</td>\n",
       "      <td>False</td>\n",
       "      <td>False</td>\n",
       "      <td>False</td>\n",
       "      <td>False</td>\n",
       "      <td>False</td>\n",
       "      <td>False</td>\n",
       "      <td>False</td>\n",
       "      <td>False</td>\n",
       "      <td>False</td>\n",
       "    </tr>\n",
       "    <tr>\n",
       "      <th>...</th>\n",
       "      <td>...</td>\n",
       "      <td>...</td>\n",
       "      <td>...</td>\n",
       "      <td>...</td>\n",
       "      <td>...</td>\n",
       "      <td>...</td>\n",
       "      <td>...</td>\n",
       "      <td>...</td>\n",
       "      <td>...</td>\n",
       "      <td>...</td>\n",
       "      <td>...</td>\n",
       "      <td>...</td>\n",
       "    </tr>\n",
       "    <tr>\n",
       "      <th>698644</th>\n",
       "      <td>False</td>\n",
       "      <td>False</td>\n",
       "      <td>False</td>\n",
       "      <td>False</td>\n",
       "      <td>False</td>\n",
       "      <td>False</td>\n",
       "      <td>False</td>\n",
       "      <td>False</td>\n",
       "      <td>False</td>\n",
       "      <td>False</td>\n",
       "      <td>False</td>\n",
       "      <td>False</td>\n",
       "    </tr>\n",
       "    <tr>\n",
       "      <th>698645</th>\n",
       "      <td>False</td>\n",
       "      <td>False</td>\n",
       "      <td>False</td>\n",
       "      <td>False</td>\n",
       "      <td>False</td>\n",
       "      <td>False</td>\n",
       "      <td>False</td>\n",
       "      <td>False</td>\n",
       "      <td>False</td>\n",
       "      <td>False</td>\n",
       "      <td>False</td>\n",
       "      <td>False</td>\n",
       "    </tr>\n",
       "    <tr>\n",
       "      <th>698646</th>\n",
       "      <td>False</td>\n",
       "      <td>False</td>\n",
       "      <td>False</td>\n",
       "      <td>False</td>\n",
       "      <td>False</td>\n",
       "      <td>False</td>\n",
       "      <td>False</td>\n",
       "      <td>False</td>\n",
       "      <td>False</td>\n",
       "      <td>False</td>\n",
       "      <td>False</td>\n",
       "      <td>False</td>\n",
       "    </tr>\n",
       "    <tr>\n",
       "      <th>698647</th>\n",
       "      <td>False</td>\n",
       "      <td>False</td>\n",
       "      <td>False</td>\n",
       "      <td>False</td>\n",
       "      <td>False</td>\n",
       "      <td>False</td>\n",
       "      <td>False</td>\n",
       "      <td>False</td>\n",
       "      <td>False</td>\n",
       "      <td>False</td>\n",
       "      <td>False</td>\n",
       "      <td>False</td>\n",
       "    </tr>\n",
       "    <tr>\n",
       "      <th>698648</th>\n",
       "      <td>False</td>\n",
       "      <td>False</td>\n",
       "      <td>False</td>\n",
       "      <td>False</td>\n",
       "      <td>False</td>\n",
       "      <td>False</td>\n",
       "      <td>False</td>\n",
       "      <td>False</td>\n",
       "      <td>False</td>\n",
       "      <td>False</td>\n",
       "      <td>False</td>\n",
       "      <td>False</td>\n",
       "    </tr>\n",
       "  </tbody>\n",
       "</table>\n",
       "<p>698649 rows × 12 columns</p>\n",
       "</div>"
      ],
      "text/plain": [
       "        ambient  coolant    u_d    u_q  motor_speed  torque    i_d    i_q  \\\n",
       "0         False    False  False  False        False   False  False  False   \n",
       "1         False    False  False  False        False   False  False  False   \n",
       "2         False    False  False  False        False   False  False  False   \n",
       "3         False    False  False  False        False   False  False  False   \n",
       "4         False    False  False  False        False   False  False  False   \n",
       "...         ...      ...    ...    ...          ...     ...    ...    ...   \n",
       "698644    False    False  False  False        False   False  False  False   \n",
       "698645    False    False  False  False        False   False  False  False   \n",
       "698646    False    False  False  False        False   False  False  False   \n",
       "698647    False    False  False  False        False   False  False  False   \n",
       "698648    False    False  False  False        False   False  False  False   \n",
       "\n",
       "        stator_yoke  stator_tooth  stator_winding     pm  \n",
       "0             False         False           False  False  \n",
       "1             False         False           False  False  \n",
       "2             False         False           False  False  \n",
       "3             False         False           False  False  \n",
       "4             False         False           False  False  \n",
       "...             ...           ...             ...    ...  \n",
       "698644        False         False           False  False  \n",
       "698645        False         False           False  False  \n",
       "698646        False         False           False  False  \n",
       "698647        False         False           False  False  \n",
       "698648        False         False           False  False  \n",
       "\n",
       "[698649 rows x 12 columns]"
      ]
     },
     "execution_count": 25,
     "metadata": {},
     "output_type": "execute_result"
    }
   ],
   "source": [
    "dataset.isnull()"
   ]
  },
  {
   "cell_type": "code",
   "execution_count": 26,
   "id": "gorgeous-theta",
   "metadata": {},
   "outputs": [
    {
     "data": {
      "text/plain": [
       "<AxesSubplot:>"
      ]
     },
     "execution_count": 26,
     "metadata": {},
     "output_type": "execute_result"
    },
    {
     "data": {
      "image/png": "[encoded data removed]",
      "text/plain": [
       "<Figure size 432x288 with 1 Axes>"
      ]
     },
     "metadata": {
      "needs_background": "light"
     },
     "output_type": "display_data"
    }
   ],
   "source": [
    "sns.heatmap(dataset.isnull(),yticklabels=False,cbar=False,cmap='viridis')"
   ]
  },
  {
   "cell_type": "code",
   "execution_count": 27,
   "id": "certified-somewhere",
   "metadata": {},
   "outputs": [
    {
     "data": {
      "text/plain": [
       "ambient           0\n",
       "coolant           0\n",
       "u_d               0\n",
       "u_q               0\n",
       "motor_speed       0\n",
       "torque            0\n",
       "i_d               0\n",
       "i_q               0\n",
       "stator_yoke       0\n",
       "stator_tooth      0\n",
       "stator_winding    0\n",
       "pm                0\n",
       "dtype: int64"
      ]
     },
     "execution_count": 27,
     "metadata": {},
     "output_type": "execute_result"
    }
   ],
   "source": [
    "dataset.isnull().sum().sort_values(ascending=False)"
   ]
  },
  {
   "cell_type": "markdown",
   "id": "developed-thickness",
   "metadata": {},
   "source": [
    "## Outlier analysis"
   ]
  },
  {
   "cell_type": "code",
   "execution_count": 28,
   "id": "royal-force",
   "metadata": {},
   "outputs": [],
   "source": [
    "# Interquartile Range Method\n",
    "\n",
    "s = dataset['ambient']\n",
    "q1 = s.quantile(0.25)\n",
    "q3 = s.quantile(0.75)\n",
    "iqr = q3 - q1\n",
    "iqr_lower = q1 - 1.5 * iqr\n",
    "iqr_upper = q3 + 1.5 * iqr\n",
    "outliers = dict(s[(s < iqr_lower) | (s > iqr_upper)])"
   ]
  },
  {
   "cell_type": "code",
   "execution_count": 29,
   "id": "extra-cosmetic",
   "metadata": {},
   "outputs": [
    {
     "data": {
      "text/plain": [
       "[<matplotlib.lines.Line2D at 0x273839576a0>]"
      ]
     },
     "execution_count": 29,
     "metadata": {},
     "output_type": "execute_result"
    },
    {
     "data": {
      "image/png": "[encoded data removed]",
      "text/plain": [
       "<Figure size 432x288 with 1 Axes>"
      ]
     },
     "metadata": {
      "needs_background": "light"
     },
     "output_type": "display_data"
    }
   ],
   "source": [
    "plt.plot(s[(s < iqr_lower) | (s > iqr_upper)])"
   ]
  },
  {
   "cell_type": "code",
   "execution_count": 30,
   "id": "twelve-hazard",
   "metadata": {},
   "outputs": [],
   "source": [
    "def outlier_label(x, lower, upper):\n",
    "    if (lower >= x) or (x >= upper):\n",
    "        return 'Yes'\n",
    "    else:\n",
    "        \n",
    "        return 'No'"
   ]
  },
  {
   "cell_type": "code",
   "execution_count": 31,
   "id": "formed-steps",
   "metadata": {},
   "outputs": [
    {
     "name": "stdout",
     "output_type": "stream",
     "text": [
      "The lower and upper bound of the range for 'ambient' respectively is: -2.5254989 and 2.6140139000000002\n",
      "The lower and upper bound of the range for 'coolant' respectively is: -3.56736355 and 3.17798965\n",
      "The lower and upper bound of the range for 'u_d' respectively is: -2.6067676 and 2.1375972\n",
      "The lower and upper bound of the range for 'u_q' respectively is: -3.599002325 and 3.5236853949999998\n",
      "The lower and upper bound of the range for 'motor_speed' respectively is: -3.66284595 and 3.5663650099999997\n",
      "The lower and upper bound of the range for 'torque' respectively is: -1.48769742 and 1.76855114\n",
      "The lower and upper bound of the range for 'i_d' respectively is: -3.41284475 and 3.6700668500000004\n",
      "The lower and upper bound of the range for 'i_q' respectively is: -1.39260407 and 1.63495905\n",
      "The lower and upper bound of the range for 'stator_yoke' respectively is: -2.91383205 and 2.86418995\n",
      "The lower and upper bound of the range for 'stator_tooth' respectively is: -3.0633999000000003 and 3.0737977\n",
      "The lower and upper bound of the range for 'stator_winding' respectively is: -2.9019393 and 2.9014959\n"
     ]
    }
   ],
   "source": [
    "columns_to_check = ['ambient', 'coolant', 'u_d', 'u_q', 'motor_speed','torque', 'i_d', 'i_q', 'stator_yoke', 'stator_tooth','stator_winding']\n",
    "\n",
    "for col in columns_to_check:\n",
    "    quartile_01, quartile_03 = np.percentile(dataset[col], [25, 75])\n",
    "    iqr = quartile_03 - quartile_01\n",
    "    \n",
    "    lower_bound = quartile_01 -(1.5 * iqr)\n",
    "    upper_bound = quartile_03 +(1.5 * iqr)\n",
    "    \n",
    "    dataset['outlier'] = dataset[col].apply(lambda x: outlier_label(x, lower_bound, upper_bound))\n",
    "    print(f\"The lower and upper bound of the range for '{col}' respectively is: {lower_bound} and {upper_bound}\")"
   ]
  },
  {
   "cell_type": "code",
   "execution_count": 32,
   "id": "ultimate-ireland",
   "metadata": {},
   "outputs": [],
   "source": [
    "def remove_outlier(df):\n",
    "    low = .05\n",
    "    high = .95\n",
    "    quant_df = df.quantile([low, high])\n",
    "    for name in list(df.columns):\n",
    "        if is_numeric_dtype(df[name]):\n",
    "            df = df[(df[name] > quant_df.loc[low, name]) \n",
    "           & (df[name] < quant_df.loc[high, name])]\n",
    "    return df\n"
   ]
  },
  {
   "cell_type": "code",
   "execution_count": 33,
   "id": "departmental-timer",
   "metadata": {},
   "outputs": [],
   "source": [
    "dataset_no_outlier_value=remove_outlier(dataset)"
   ]
  },
  {
   "cell_type": "code",
   "execution_count": 34,
   "id": "solar-trance",
   "metadata": {},
   "outputs": [
    {
     "data": {
      "text/plain": [
       "(293190, 13)"
      ]
     },
     "execution_count": 34,
     "metadata": {},
     "output_type": "execute_result"
    }
   ],
   "source": [
    "dataset_no_outlier_value.shape"
   ]
  },
  {
   "cell_type": "code",
   "execution_count": 35,
   "id": "developmental-ownership",
   "metadata": {},
   "outputs": [
    {
     "data": {
      "text/plain": [
       "pandas.core.frame.DataFrame"
      ]
     },
     "execution_count": 35,
     "metadata": {},
     "output_type": "execute_result"
    }
   ],
   "source": [
    "type(dataset_no_outlier_value)"
   ]
  },
  {
   "cell_type": "code",
   "execution_count": 36,
   "id": "disturbed-simple",
   "metadata": {},
   "outputs": [],
   "source": [
    "dataset_no_outlier_value=dataset_no_outlier_value.drop(['outlier'], axis = 1)"
   ]
  },
  {
   "cell_type": "code",
   "execution_count": 37,
   "id": "listed-roots",
   "metadata": {},
   "outputs": [
    {
     "data": {
      "text/html": [
       "<div>\n",
       "<style scoped>\n",
       "    .dataframe tbody tr th:only-of-type {\n",
       "        vertical-align: middle;\n",
       "    }\n",
       "\n",
       "    .dataframe tbody tr th {\n",
       "        vertical-align: top;\n",
       "    }\n",
       "\n",
       "    .dataframe thead th {\n",
       "        text-align: right;\n",
       "    }\n",
       "</style>\n",
       "<table border=\"1\" class=\"dataframe\">\n",
       "  <thead>\n",
       "    <tr style=\"text-align: right;\">\n",
       "      <th></th>\n",
       "      <th>ambient</th>\n",
       "      <th>coolant</th>\n",
       "      <th>u_d</th>\n",
       "      <th>u_q</th>\n",
       "      <th>motor_speed</th>\n",
       "      <th>torque</th>\n",
       "      <th>i_d</th>\n",
       "      <th>i_q</th>\n",
       "      <th>stator_yoke</th>\n",
       "      <th>stator_tooth</th>\n",
       "      <th>stator_winding</th>\n",
       "      <th>pm</th>\n",
       "    </tr>\n",
       "  </thead>\n",
       "  <tbody>\n",
       "    <tr>\n",
       "      <th>5015</th>\n",
       "      <td>-0.601064</td>\n",
       "      <td>-1.081462</td>\n",
       "      <td>0.291149</td>\n",
       "      <td>0.892751</td>\n",
       "      <td>-0.140246</td>\n",
       "      <td>-0.260990</td>\n",
       "      <td>1.029126</td>\n",
       "      <td>-0.245705</td>\n",
       "      <td>-0.937971</td>\n",
       "      <td>-0.840746</td>\n",
       "      <td>-0.976796</td>\n",
       "      <td>0.966119</td>\n",
       "    </tr>\n",
       "    <tr>\n",
       "      <th>5028</th>\n",
       "      <td>-0.618168</td>\n",
       "      <td>-1.081584</td>\n",
       "      <td>0.290983</td>\n",
       "      <td>0.893145</td>\n",
       "      <td>-0.140247</td>\n",
       "      <td>-0.261201</td>\n",
       "      <td>1.029141</td>\n",
       "      <td>-0.245716</td>\n",
       "      <td>-0.958372</td>\n",
       "      <td>-0.880802</td>\n",
       "      <td>-0.976972</td>\n",
       "      <td>0.937190</td>\n",
       "    </tr>\n",
       "    <tr>\n",
       "      <th>5029</th>\n",
       "      <td>-0.614427</td>\n",
       "      <td>-1.079631</td>\n",
       "      <td>0.291079</td>\n",
       "      <td>0.892788</td>\n",
       "      <td>-0.140246</td>\n",
       "      <td>-0.261235</td>\n",
       "      <td>1.029132</td>\n",
       "      <td>-0.245709</td>\n",
       "      <td>-0.959685</td>\n",
       "      <td>-0.882862</td>\n",
       "      <td>-0.977027</td>\n",
       "      <td>0.935620</td>\n",
       "    </tr>\n",
       "    <tr>\n",
       "      <th>5031</th>\n",
       "      <td>-0.604584</td>\n",
       "      <td>-1.078171</td>\n",
       "      <td>0.291132</td>\n",
       "      <td>0.893434</td>\n",
       "      <td>-0.140243</td>\n",
       "      <td>-0.261142</td>\n",
       "      <td>1.029140</td>\n",
       "      <td>-0.245730</td>\n",
       "      <td>-0.962458</td>\n",
       "      <td>-0.887689</td>\n",
       "      <td>-0.977085</td>\n",
       "      <td>0.932074</td>\n",
       "    </tr>\n",
       "    <tr>\n",
       "      <th>5039</th>\n",
       "      <td>-0.835352</td>\n",
       "      <td>-1.080473</td>\n",
       "      <td>0.290626</td>\n",
       "      <td>0.893210</td>\n",
       "      <td>-0.140246</td>\n",
       "      <td>-0.261326</td>\n",
       "      <td>1.029128</td>\n",
       "      <td>-0.245713</td>\n",
       "      <td>-0.985661</td>\n",
       "      <td>-0.907300</td>\n",
       "      <td>-0.993440</td>\n",
       "      <td>0.903991</td>\n",
       "    </tr>\n",
       "  </tbody>\n",
       "</table>\n",
       "</div>"
      ],
      "text/plain": [
       "       ambient   coolant       u_d       u_q  motor_speed    torque       i_d  \\\n",
       "5015 -0.601064 -1.081462  0.291149  0.892751    -0.140246 -0.260990  1.029126   \n",
       "5028 -0.618168 -1.081584  0.290983  0.893145    -0.140247 -0.261201  1.029141   \n",
       "5029 -0.614427 -1.079631  0.291079  0.892788    -0.140246 -0.261235  1.029132   \n",
       "5031 -0.604584 -1.078171  0.291132  0.893434    -0.140243 -0.261142  1.029140   \n",
       "5039 -0.835352 -1.080473  0.290626  0.893210    -0.140246 -0.261326  1.029128   \n",
       "\n",
       "           i_q  stator_yoke  stator_tooth  stator_winding        pm  \n",
       "5015 -0.245705    -0.937971     -0.840746       -0.976796  0.966119  \n",
       "5028 -0.245716    -0.958372     -0.880802       -0.976972  0.937190  \n",
       "5029 -0.245709    -0.959685     -0.882862       -0.977027  0.935620  \n",
       "5031 -0.245730    -0.962458     -0.887689       -0.977085  0.932074  \n",
       "5039 -0.245713    -0.985661     -0.907300       -0.993440  0.903991  "
      ]
     },
     "execution_count": 37,
     "metadata": {},
     "output_type": "execute_result"
    }
   ],
   "source": [
    "dataset_no_outlier_value.head()"
   ]
  },
  {
   "cell_type": "code",
   "execution_count": 38,
   "id": "productive-condition",
   "metadata": {},
   "outputs": [
    {
     "data": {
      "text/plain": [
       "(698649, 13)"
      ]
     },
     "execution_count": 38,
     "metadata": {},
     "output_type": "execute_result"
    }
   ],
   "source": [
    "dataset.shape"
   ]
  },
  {
   "cell_type": "markdown",
   "id": "explicit-cache",
   "metadata": {},
   "source": [
    "## Detecting Multicollinearity with VIF"
   ]
  },
  {
   "cell_type": "code",
   "execution_count": 39,
   "id": "confirmed-history",
   "metadata": {},
   "outputs": [
    {
     "name": "stdout",
     "output_type": "stream",
     "text": [
      "           feature         VIF\n",
      "0          ambient    1.419343\n",
      "1          coolant   40.925697\n",
      "2              u_d    5.035322\n",
      "3              u_q    5.023655\n",
      "4      motor_speed   13.416578\n",
      "5           torque  262.735181\n",
      "6              i_d    8.836420\n",
      "7              i_q  231.223773\n",
      "8      stator_yoke  393.060905\n",
      "9     stator_tooth  624.460055\n",
      "10  stator_winding  153.544821\n"
     ]
    }
   ],
   "source": [
    "# the independent variables set\n",
    "X = dataset[['ambient', 'coolant', 'u_d', 'u_q', 'motor_speed','torque', 'i_d', 'i_q', 'stator_yoke', 'stator_tooth','stator_winding']]\n",
    " \n",
    "# VIF dataframe\n",
    "vif_data = pd.DataFrame()\n",
    "vif_data[\"feature\"] = X.columns\n",
    "  \n",
    "# calculating VIF for each feature\n",
    "vif_data[\"VIF\"] = [vif(X.values, i)\n",
    "                          for i in range(len(X.columns))]\n",
    "  \n",
    "print(vif_data)"
   ]
  },
  {
   "cell_type": "code",
   "execution_count": 40,
   "id": "higher-simple",
   "metadata": {},
   "outputs": [
    {
     "name": "stdout",
     "output_type": "stream",
     "text": [
      "Max VIF value is  624.4600554313168\n",
      "For Independent variable stator_tooth\n",
      "Deleting stator_tooth\n",
      "Final Independent_variables  Index(['ambient', 'coolant', 'u_d', 'u_q', 'motor_speed', 'torque', 'i_d',\n",
      "       'i_q', 'stator_yoke', 'stator_winding'],\n",
      "      dtype='object')\n",
      "Max VIF value is  261.6854342930114\n",
      "For Independent variable torque\n",
      "Deleting torque\n",
      "Final Independent_variables  Index(['ambient', 'coolant', 'u_d', 'u_q', 'motor_speed', 'i_d', 'i_q',\n",
      "       'stator_yoke', 'stator_winding'],\n",
      "      dtype='object')\n",
      "Max VIF value is  73.39193135510105\n",
      "For Independent variable stator_yoke\n",
      "Deleting stator_yoke\n",
      "Final Independent_variables  Index(['ambient', 'coolant', 'u_d', 'u_q', 'motor_speed', 'i_d', 'i_q',\n",
      "       'stator_winding'],\n",
      "      dtype='object')\n",
      "Max VIF value is  10.69890667439264\n",
      "For Independent variable motor_speed\n",
      "Max VIF value is  10.69890667439264\n",
      "For Independent variable motor_speed\n",
      "Max VIF value is  10.69890667439264\n",
      "For Independent variable motor_speed\n",
      "Max VIF value is  10.69890667439264\n",
      "For Independent variable motor_speed\n",
      "Max VIF value is  10.69890667439264\n",
      "For Independent variable motor_speed\n",
      "Max VIF value is  10.69890667439264\n",
      "For Independent variable motor_speed\n",
      "Max VIF value is  10.69890667439264\n",
      "For Independent variable motor_speed\n",
      "Max VIF value is  10.69890667439264\n",
      "For Independent variable motor_speed\n"
     ]
    }
   ],
   "source": [
    "iv = dataset[['ambient', 'coolant', 'u_d', 'u_q', 'motor_speed',\n",
    "       'torque', 'i_d', 'i_q', 'stator_yoke', 'stator_tooth',\n",
    "       'stator_winding']].columns\n",
    "\n",
    "X = dataset[iv]\n",
    "  \n",
    "# compare with each columns\n",
    "[vif(dataset[iv].values, index) for index in range(len(iv))] \n",
    "  \n",
    "# compare with each columns\n",
    "for i in range(len(iv)):\n",
    "    vif_list = [vif(dataset[iv].values, index) for index in range(len(iv))] \n",
    "    maxvif = max(vif_list)\n",
    "    print(\"Max VIF value is \", maxvif)                      \n",
    "    drop_index = vif_list.index(maxvif)\n",
    "    print(\"For Independent variable\", iv[drop_index])\n",
    "     \n",
    "    if maxvif > 20:\n",
    "         \n",
    "        print(\"Deleting\", iv[drop_index])\n",
    "        iv = iv.delete(drop_index)\n",
    "        print(\"Final Independent_variables \", iv)\n"
   ]
  },
  {
   "cell_type": "markdown",
   "id": "grand-charlotte",
   "metadata": {},
   "source": [
    "## EDA using pandas_profiling"
   ]
  },
  {
   "cell_type": "code",
   "execution_count": 41,
   "id": "marine-relation",
   "metadata": {},
   "outputs": [],
   "source": [
    "#profile = ProfileReport(dataset, title='Regression Pandas Profiling Report', explorative=True)"
   ]
  },
  {
   "cell_type": "code",
   "execution_count": 42,
   "id": "lovely-completion",
   "metadata": {},
   "outputs": [],
   "source": [
    "#profile.to_widgets()"
   ]
  },
  {
   "cell_type": "code",
   "execution_count": 43,
   "id": "informal-genome",
   "metadata": {},
   "outputs": [],
   "source": [
    "#profile.to_file(\"regression_output_report_pandas_profiling.html\")"
   ]
  },
  {
   "cell_type": "markdown",
   "id": "advance-mason",
   "metadata": {},
   "source": [
    "## EDA using sweetviz"
   ]
  },
  {
   "cell_type": "code",
   "execution_count": 44,
   "id": "induced-seller",
   "metadata": {},
   "outputs": [],
   "source": [
    "#my_report = sweetviz.analyze([dataset, \"Train\"],target_feat='pm')"
   ]
  },
  {
   "cell_type": "code",
   "execution_count": 45,
   "id": "completed-childhood",
   "metadata": {},
   "outputs": [],
   "source": [
    "#my_report.show_html('regression_eda_output_report_sweetviz.html')"
   ]
  },
  {
   "cell_type": "markdown",
   "id": "palestinian-speech",
   "metadata": {},
   "source": [
    "## EDA using pandas_visual_analysis"
   ]
  },
  {
   "cell_type": "code",
   "execution_count": 46,
   "id": "supported-quilt",
   "metadata": {},
   "outputs": [],
   "source": [
    "#VisualAnalysis(dataset)"
   ]
  },
  {
   "cell_type": "markdown",
   "id": "upper-mobility",
   "metadata": {},
   "source": [
    "## EDA using Dtale"
   ]
  },
  {
   "cell_type": "code",
   "execution_count": 47,
   "id": "complimentary-magnet",
   "metadata": {},
   "outputs": [],
   "source": [
    "#dtale.show(dataset)"
   ]
  },
  {
   "cell_type": "markdown",
   "id": "consistent-patrick",
   "metadata": {},
   "source": [
    "## Split data into train & test"
   ]
  },
  {
   "cell_type": "code",
   "execution_count": 48,
   "id": "quarterly-dealer",
   "metadata": {},
   "outputs": [],
   "source": [
    "# choosing all features\n",
    "\n",
    "X_1=dataset[['ambient', 'coolant', 'u_d', 'u_q', 'motor_speed',\n",
    "           'torque', 'i_d', 'i_q','stator_yoke', 'stator_tooth','stator_winding']]\n",
    "\n",
    "y_1= dataset[['pm']]"
   ]
  },
  {
   "cell_type": "markdown",
   "id": "tough-victor",
   "metadata": {},
   "source": [
    "# Create a model and train it"
   ]
  },
  {
   "cell_type": "markdown",
   "id": "educated-briefs",
   "metadata": {},
   "source": [
    "## Scaling features"
   ]
  },
  {
   "cell_type": "code",
   "execution_count": 49,
   "id": "spanish-christian",
   "metadata": {},
   "outputs": [],
   "source": [
    "ss = preprocessing.StandardScaler()\n",
    "\n",
    "X_1= ss.fit_transform(X_1)"
   ]
  },
  {
   "cell_type": "markdown",
   "id": "automated-manor",
   "metadata": {},
   "source": [
    "## Splitting the dataset into the Training set and Test set"
   ]
  },
  {
   "cell_type": "code",
   "execution_count": 50,
   "id": "terminal-irish",
   "metadata": {},
   "outputs": [],
   "source": [
    "X_1_train, X_1_test, y_1_train, y_1_test = train_test_split(X_1, y_1, test_size = 0.2, random_state = 42)"
   ]
  },
  {
   "cell_type": "markdown",
   "id": "collective-tissue",
   "metadata": {},
   "source": [
    "## Linear Regression"
   ]
  },
  {
   "cell_type": "markdown",
   "id": "reverse-circus",
   "metadata": {},
   "source": [
    "## 1st model"
   ]
  },
  {
   "cell_type": "code",
   "execution_count": 51,
   "id": "infectious-modification",
   "metadata": {},
   "outputs": [
    {
     "name": "stdout",
     "output_type": "stream",
     "text": [
      "accuracy score 0.7724511997409498\n"
     ]
    }
   ],
   "source": [
    "# Fitting Multiple Linear Regression to the Training set\n",
    "\n",
    "regressor = LinearRegression()\n",
    "regressor.fit(X_1_train, y_1_train)\n",
    "\n",
    "# Predicting the Test set results\n",
    "y_pred = regressor.predict(X_1_test)\n",
    "\n",
    "score=r2_score(y_1_test,y_pred)\n",
    "\n",
    "print(\"accuracy score\",score)"
   ]
  },
  {
   "cell_type": "code",
   "execution_count": 52,
   "id": "exact-separate",
   "metadata": {},
   "outputs": [
    {
     "name": "stdout",
     "output_type": "stream",
     "text": [
      "pridicted values of pm based on given variables [[-1.61182704]]\n"
     ]
    },
    {
     "name": "stderr",
     "output_type": "stream",
     "text": [
      "c:\\users\\amit jain\\.conda\\envs\\tensorflow\\lib\\site-packages\\sklearn\\utils\\validation.py:63: FutureWarning:\n",
      "\n",
      "Arrays of bytes/strings is being converted to decimal numbers if dtype='numeric'. This behavior is deprecated in 0.24 and will be removed in 1.1 (renaming of 0.26). Please convert your data to numeric values explicitly instead.\n",
      "\n"
     ]
    }
   ],
   "source": [
    "X_test=[['-0.75214297','-1.1184461','0.3279352','-1.2978575','-1.2224282','-0.2501821','1.0295724','-0.24586003','-1.8314217','-2.0661428','-2.0180326']]\n",
    "\n",
    "# Predicting the Test set results\n",
    "y_pred_new = regressor.predict(X_test)\n",
    "\n",
    "print(\"pridicted values of pm based on given variables\",y_pred_new)"
   ]
  },
  {
   "cell_type": "code",
   "execution_count": 53,
   "id": "taken-costume",
   "metadata": {},
   "outputs": [
    {
     "name": "stdout",
     "output_type": "stream",
     "text": [
      "pridicted values of pm based on given variables [[0.65329012]]\n"
     ]
    },
    {
     "name": "stderr",
     "output_type": "stream",
     "text": [
      "c:\\users\\amit jain\\.conda\\envs\\tensorflow\\lib\\site-packages\\sklearn\\utils\\validation.py:63: FutureWarning:\n",
      "\n",
      "Arrays of bytes/strings is being converted to decimal numbers if dtype='numeric'. This behavior is deprecated in 0.24 and will be removed in 1.1 (renaming of 0.26). Please convert your data to numeric values explicitly instead.\n",
      "\n"
     ]
    }
   ],
   "source": [
    "X_test=[['-0.1533763','0.4364797','2.233154','-0.7633086','0.8685327','-1.703007','-1.886732','-1.511974','0.6045675','0.6515232','0.581081']]\n",
    "\n",
    "# Predicting the Test set results\n",
    "y_pred_new = regressor.predict(X_test)\n",
    "\n",
    "print(\"pridicted values of pm based on given variables\",y_pred_new)"
   ]
  },
  {
   "cell_type": "code",
   "execution_count": 54,
   "id": "revolutionary-congo",
   "metadata": {},
   "outputs": [
    {
     "name": "stdout",
     "output_type": "stream",
     "text": [
      "[('ambient', 0.21628939706916275), ('coolant', -0.2678498180514821), ('u_d', -0.035408277227414235), ('u_q', -0.34493919762313935), ('motor_speed', 0.3343860457252063), ('torque', 0.003046706977547027), ('i_d', 0.18009031785281862), ('i_q', 0.013912429152178565), ('stator_yoke', -1.5537883326348292), ('stator_tooth', 4.537728079687539), ('stator_winding', -2.268089543789041)]\n",
      "           Feature  Coefficients\n",
      "0          ambient      0.216289\n",
      "1          coolant     -0.267850\n",
      "2              u_d     -0.035408\n",
      "3              u_q     -0.344939\n",
      "4      motor_speed      0.334386\n",
      "5           torque      0.003047\n",
      "6              i_d      0.180090\n",
      "7              i_q      0.013912\n",
      "8      stator_yoke     -1.553788\n",
      "9     stator_tooth      4.537728\n",
      "10  stator_winding     -2.268090\n"
     ]
    }
   ],
   "source": [
    "# linear regression feature importance\n",
    "\n",
    "importance = regressor.coef_\n",
    "\n",
    "print(list(zip(X.columns.tolist(),importance[0])))\n",
    "\n",
    "print(pd.DataFrame({\"Feature\":X.columns.tolist(),\"Coefficients\":importance[0]}))"
   ]
  },
  {
   "cell_type": "markdown",
   "id": "spatial-rubber",
   "metadata": {},
   "source": [
    "### 2nd model"
   ]
  },
  {
   "cell_type": "code",
   "execution_count": 55,
   "id": "fifteen-width",
   "metadata": {},
   "outputs": [],
   "source": [
    "# features based on correlation analysis\n",
    "\n",
    "X_2=dataset[['ambient', 'coolant', 'u_d', 'u_q', 'motor_speed',\n",
    "       'torque', 'i_d', 'stator_yoke', 'stator_tooth']]\n",
    "\n",
    "y_2= dataset[['pm']]"
   ]
  },
  {
   "cell_type": "code",
   "execution_count": 56,
   "id": "expected-indicator",
   "metadata": {},
   "outputs": [],
   "source": [
    "X_2= ss.fit_transform(X_2)"
   ]
  },
  {
   "cell_type": "code",
   "execution_count": 57,
   "id": "legendary-blank",
   "metadata": {},
   "outputs": [],
   "source": [
    "X_2_train, X_2_test, y_2_train, y_2_test = train_test_split(X_2, y_2, test_size = 0.2, random_state = 0)"
   ]
  },
  {
   "cell_type": "code",
   "execution_count": 58,
   "id": "matched-compact",
   "metadata": {},
   "outputs": [
    {
     "name": "stdout",
     "output_type": "stream",
     "text": [
      "accuracy score 0.7368473501638787\n"
     ]
    }
   ],
   "source": [
    "# Fitting Multiple Linear Regression to the Training set\n",
    "\n",
    "regressor_2 = LinearRegression()\n",
    "regressor_2.fit(X_2_train, y_2_train)\n",
    "\n",
    "# Predicting the Test set results\n",
    "y_pred = regressor_2.predict(X_2_test)\n",
    "\n",
    "score=r2_score(y_2_test,y_pred)\n",
    "\n",
    "print(\"accuracy score\",score)"
   ]
  },
  {
   "cell_type": "code",
   "execution_count": 59,
   "id": "endless-composition",
   "metadata": {},
   "outputs": [
    {
     "name": "stdout",
     "output_type": "stream",
     "text": [
      "pridicted values of pm based on given variables [[-1.48503927]]\n"
     ]
    },
    {
     "name": "stderr",
     "output_type": "stream",
     "text": [
      "c:\\users\\amit jain\\.conda\\envs\\tensorflow\\lib\\site-packages\\sklearn\\utils\\validation.py:63: FutureWarning:\n",
      "\n",
      "Arrays of bytes/strings is being converted to decimal numbers if dtype='numeric'. This behavior is deprecated in 0.24 and will be removed in 1.1 (renaming of 0.26). Please convert your data to numeric values explicitly instead.\n",
      "\n"
     ]
    }
   ],
   "source": [
    "X_test=[['-0.75214297','-1.1184461','0.3279352','-1.2978575','-1.2224282','-0.2501821','1.0295724','-1.8314217','-2.0661428']]\n",
    "\n",
    "# Predicting the Test set results\n",
    "y_pred_new = regressor_2.predict(X_test)\n",
    "\n",
    "print(\"pridicted values of pm based on given variables\",y_pred_new)"
   ]
  },
  {
   "cell_type": "markdown",
   "id": "choice-trail",
   "metadata": {},
   "source": [
    "## 3rd Model"
   ]
  },
  {
   "cell_type": "code",
   "execution_count": 60,
   "id": "limited-middle",
   "metadata": {},
   "outputs": [],
   "source": [
    "# features based on Multi-collinearity\n",
    "\n",
    "X_3=dataset[['ambient', 'coolant', 'u_d', 'u_q', 'motor_speed', 'i_d', 'i_q','stator_winding']]\n",
    "\n",
    "y_3= dataset[['pm']]"
   ]
  },
  {
   "cell_type": "code",
   "execution_count": 61,
   "id": "formal-bleeding",
   "metadata": {},
   "outputs": [],
   "source": [
    "X_3= ss.fit_transform(X_3)"
   ]
  },
  {
   "cell_type": "code",
   "execution_count": 62,
   "id": "weekly-aruba",
   "metadata": {},
   "outputs": [],
   "source": [
    "X_3_train, X_3_test, y_3_train, y_3_test = train_test_split(X_3, y_3, test_size = 0.2, random_state = 100)"
   ]
  },
  {
   "cell_type": "code",
   "execution_count": 63,
   "id": "worse-continent",
   "metadata": {},
   "outputs": [
    {
     "name": "stdout",
     "output_type": "stream",
     "text": [
      "accuracy score 0.7008534035351976\n"
     ]
    }
   ],
   "source": [
    "# Fitting Multiple Linear Regression to the Training set\n",
    "\n",
    "regressor_3 = LinearRegression()\n",
    "regressor_3.fit(X_3_train, y_3_train)\n",
    "\n",
    "# Predicting the Test set results\n",
    "y_pred = regressor_3.predict(X_3_test)\n",
    "\n",
    "score=r2_score(y_3_test,y_pred)\n",
    "\n",
    "print(\"accuracy score\",score)"
   ]
  },
  {
   "cell_type": "code",
   "execution_count": 64,
   "id": "acquired-bicycle",
   "metadata": {},
   "outputs": [
    {
     "name": "stdout",
     "output_type": "stream",
     "text": [
      "pridicted values of pm based on given variables [[-1.39632223]]\n"
     ]
    },
    {
     "name": "stderr",
     "output_type": "stream",
     "text": [
      "c:\\users\\amit jain\\.conda\\envs\\tensorflow\\lib\\site-packages\\sklearn\\utils\\validation.py:63: FutureWarning:\n",
      "\n",
      "Arrays of bytes/strings is being converted to decimal numbers if dtype='numeric'. This behavior is deprecated in 0.24 and will be removed in 1.1 (renaming of 0.26). Please convert your data to numeric values explicitly instead.\n",
      "\n"
     ]
    }
   ],
   "source": [
    "X_test=[['-0.75214297','-1.1184461','0.3279352','-1.2978575','-1.2224282','1.0295724','-0.24586003','-2.0180326']]\n",
    "\n",
    "# Predicting the Test set results\n",
    "y_pred_new = regressor_3.predict(X_test)\n",
    "\n",
    "print(\"pridicted values of pm based on given variables\",y_pred_new)"
   ]
  },
  {
   "cell_type": "markdown",
   "id": "major-friend",
   "metadata": {},
   "source": [
    "## model 4 RFE with linear regressor"
   ]
  },
  {
   "cell_type": "code",
   "execution_count": 65,
   "id": "hundred-appreciation",
   "metadata": {},
   "outputs": [
    {
     "data": {
      "text/plain": [
       "[('ambient', True, 1),\n",
       " ('coolant', False, 2),\n",
       " ('u_d', False, 5),\n",
       " ('u_q', True, 1),\n",
       " ('motor_speed', False, 3),\n",
       " ('torque', False, 7),\n",
       " ('i_d', False, 4),\n",
       " ('i_q', False, 6),\n",
       " ('stator_yoke', True, 1),\n",
       " ('stator_tooth', True, 1),\n",
       " ('stator_winding', True, 1)]"
      ]
     },
     "execution_count": 65,
     "metadata": {},
     "output_type": "execute_result"
    }
   ],
   "source": [
    "# running RFE with number of features=5\n",
    "\n",
    "regressor_4 = LinearRegression()\n",
    "regressor_4.fit(X_1_train, y_1_train)\n",
    "\n",
    "rfe = RFE(regressor_4, n_features_to_select=5)             \n",
    "rfe = rfe.fit(X_1_train, y_1_train)\n",
    "\n",
    "list(zip(X.columns,rfe.support_,rfe.ranking_))"
   ]
  },
  {
   "cell_type": "code",
   "execution_count": 66,
   "id": "smoking-reward",
   "metadata": {},
   "outputs": [
    {
     "name": "stdout",
     "output_type": "stream",
     "text": [
      "0.7594390646402165\n"
     ]
    }
   ],
   "source": [
    "# predict prices of X_test\n",
    "\n",
    "y_pred = rfe.predict(X_1_test)\n",
    "\n",
    "# evaluate the model on test set\n",
    "r2 = sklearn.metrics.r2_score(y_1_test, y_pred)\n",
    "print(r2)"
   ]
  },
  {
   "cell_type": "code",
   "execution_count": 67,
   "id": "accurate-subject",
   "metadata": {},
   "outputs": [
    {
     "name": "stdout",
     "output_type": "stream",
     "text": [
      "pridicted values of pm based on given variables [[0.65329012]]\n"
     ]
    },
    {
     "name": "stderr",
     "output_type": "stream",
     "text": [
      "c:\\users\\amit jain\\.conda\\envs\\tensorflow\\lib\\site-packages\\sklearn\\utils\\validation.py:63: FutureWarning:\n",
      "\n",
      "Arrays of bytes/strings is being converted to decimal numbers if dtype='numeric'. This behavior is deprecated in 0.24 and will be removed in 1.1 (renaming of 0.26). Please convert your data to numeric values explicitly instead.\n",
      "\n"
     ]
    }
   ],
   "source": [
    "X_test=[['-0.1533763','0.4364797','2.233154','-0.7633086','0.8685327','-1.703007','-1.886732','-1.511974','0.6045675','0.6515232','0.581081']]\n",
    "\n",
    "# Predicting the Test set results\n",
    "y_pred_new = regressor_4.predict(X_test)\n",
    "\n",
    "print(\"pridicted values of pm based on given variables\",y_pred_new)"
   ]
  },
  {
   "cell_type": "markdown",
   "id": "tested-episode",
   "metadata": {},
   "source": [
    "## model 5 "
   ]
  },
  {
   "cell_type": "code",
   "execution_count": null,
   "id": "fuzzy-violin",
   "metadata": {},
   "outputs": [],
   "source": []
  },
  {
   "cell_type": "code",
   "execution_count": 68,
   "id": "ordinary-solid",
   "metadata": {},
   "outputs": [
    {
     "data": {
      "text/plain": [
       "array([0.76887465, 0.77703634, 0.77310646, 0.7712113 , 0.77230783,\n",
       "       0.77031778, 0.77538177, 0.77187246, 0.76979498, 0.77277782])"
      ]
     },
     "execution_count": 68,
     "metadata": {},
     "output_type": "execute_result"
    }
   ],
   "source": [
    "# k-fold CV (using all the 13 variables)\n",
    "regressor_5 = LinearRegression()\n",
    "scores = cross_val_score(regressor_5, X_1_train, y_1_train, scoring='r2', cv=10)\n",
    "scores    "
   ]
  },
  {
   "cell_type": "code",
   "execution_count": 69,
   "id": "liberal-despite",
   "metadata": {},
   "outputs": [
    {
     "data": {
      "text/plain": [
       "11"
      ]
     },
     "execution_count": 69,
     "metadata": {},
     "output_type": "execute_result"
    }
   ],
   "source": [
    "len(X.columns)"
   ]
  },
  {
   "cell_type": "markdown",
   "id": "connected-hamburg",
   "metadata": {},
   "source": [
    "## model 6 hyper parameter tuning"
   ]
  },
  {
   "cell_type": "code",
   "execution_count": 70,
   "id": "forced-boost",
   "metadata": {},
   "outputs": [
    {
     "name": "stdout",
     "output_type": "stream",
     "text": [
      "Fitting 5 folds for each of 11 candidates, totalling 55 fits\n"
     ]
    },
    {
     "data": {
      "text/plain": [
       "GridSearchCV(cv=KFold(n_splits=5, random_state=100, shuffle=True),\n",
       "             estimator=RFE(estimator=LinearRegression()),\n",
       "             param_grid=[{'n_features_to_select': [1, 2, 3, 4, 5, 6, 7, 8, 9,\n",
       "                                                   10, 11]}],\n",
       "             return_train_score=True, scoring='r2', verbose=1)"
      ]
     },
     "execution_count": 70,
     "metadata": {},
     "output_type": "execute_result"
    }
   ],
   "source": [
    "# step-1: create a cross-validation scheme\n",
    "folds = KFold(n_splits = 5, shuffle = True, random_state = 100)\n",
    "\n",
    "# step-2: specify range of hyperparameters to tune\n",
    "hyper_params = [{'n_features_to_select': list(range(1, 12))}]\n",
    "\n",
    "\n",
    "# step-3: perform grid search\n",
    "# 3.1 specify model\n",
    "regressor_6 = LinearRegression()\n",
    "regressor_6.fit(X_1_train, y_1_train)\n",
    "rfe = RFE(regressor_6)             \n",
    "\n",
    "# 3.2 call GridSearchCV()\n",
    "model_cv = GridSearchCV(estimator = rfe, \n",
    "                        param_grid = hyper_params, \n",
    "                        scoring= 'r2', \n",
    "                        cv = folds, \n",
    "                        verbose = 1,\n",
    "                        return_train_score=True)      \n",
    "\n",
    "# fit the model\n",
    "model_cv.fit(X_1_train, y_1_train)    "
   ]
  },
  {
   "cell_type": "code",
   "execution_count": 71,
   "id": "blank-gasoline",
   "metadata": {},
   "outputs": [
    {
     "name": "stdout",
     "output_type": "stream",
     "text": [
      "accuracy score 0.7724511997409498\n"
     ]
    }
   ],
   "source": [
    "\n",
    "# Predicting the Test set results\n",
    "y_pred = regressor_6.predict(X_1_test)\n",
    "\n",
    "score=r2_score(y_1_test,y_pred)\n",
    "\n",
    "print(\"accuracy score\",score)"
   ]
  },
  {
   "cell_type": "code",
   "execution_count": 72,
   "id": "neither-playlist",
   "metadata": {
    "scrolled": true
   },
   "outputs": [
    {
     "data": {
      "text/html": [
       "<div>\n",
       "<style scoped>\n",
       "    .dataframe tbody tr th:only-of-type {\n",
       "        vertical-align: middle;\n",
       "    }\n",
       "\n",
       "    .dataframe tbody tr th {\n",
       "        vertical-align: top;\n",
       "    }\n",
       "\n",
       "    .dataframe thead th {\n",
       "        text-align: right;\n",
       "    }\n",
       "</style>\n",
       "<table border=\"1\" class=\"dataframe\">\n",
       "  <thead>\n",
       "    <tr style=\"text-align: right;\">\n",
       "      <th></th>\n",
       "      <th>mean_fit_time</th>\n",
       "      <th>std_fit_time</th>\n",
       "      <th>mean_score_time</th>\n",
       "      <th>std_score_time</th>\n",
       "      <th>param_n_features_to_select</th>\n",
       "      <th>params</th>\n",
       "      <th>split0_test_score</th>\n",
       "      <th>split1_test_score</th>\n",
       "      <th>split2_test_score</th>\n",
       "      <th>split3_test_score</th>\n",
       "      <th>...</th>\n",
       "      <th>mean_test_score</th>\n",
       "      <th>std_test_score</th>\n",
       "      <th>rank_test_score</th>\n",
       "      <th>split0_train_score</th>\n",
       "      <th>split1_train_score</th>\n",
       "      <th>split2_train_score</th>\n",
       "      <th>split3_train_score</th>\n",
       "      <th>split4_train_score</th>\n",
       "      <th>mean_train_score</th>\n",
       "      <th>std_train_score</th>\n",
       "    </tr>\n",
       "  </thead>\n",
       "  <tbody>\n",
       "    <tr>\n",
       "      <th>0</th>\n",
       "      <td>1.804772</td>\n",
       "      <td>0.026535</td>\n",
       "      <td>0.013606</td>\n",
       "      <td>0.004363</td>\n",
       "      <td>1</td>\n",
       "      <td>{'n_features_to_select': 1}</td>\n",
       "      <td>0.591221</td>\n",
       "      <td>0.591544</td>\n",
       "      <td>0.592574</td>\n",
       "      <td>0.587853</td>\n",
       "      <td>...</td>\n",
       "      <td>0.590954</td>\n",
       "      <td>0.001615</td>\n",
       "      <td>11</td>\n",
       "      <td>0.590893</td>\n",
       "      <td>0.590814</td>\n",
       "      <td>0.590553</td>\n",
       "      <td>0.591734</td>\n",
       "      <td>0.590805</td>\n",
       "      <td>0.590960</td>\n",
       "      <td>0.000404</td>\n",
       "    </tr>\n",
       "    <tr>\n",
       "      <th>1</th>\n",
       "      <td>1.772817</td>\n",
       "      <td>0.033555</td>\n",
       "      <td>0.013271</td>\n",
       "      <td>0.007060</td>\n",
       "      <td>2</td>\n",
       "      <td>{'n_features_to_select': 2}</td>\n",
       "      <td>0.593575</td>\n",
       "      <td>0.593698</td>\n",
       "      <td>0.594929</td>\n",
       "      <td>0.590019</td>\n",
       "      <td>...</td>\n",
       "      <td>0.593117</td>\n",
       "      <td>0.001642</td>\n",
       "      <td>10</td>\n",
       "      <td>0.593013</td>\n",
       "      <td>0.592983</td>\n",
       "      <td>0.592671</td>\n",
       "      <td>0.593900</td>\n",
       "      <td>0.593064</td>\n",
       "      <td>0.593126</td>\n",
       "      <td>0.000411</td>\n",
       "    </tr>\n",
       "    <tr>\n",
       "      <th>2</th>\n",
       "      <td>1.719715</td>\n",
       "      <td>0.021570</td>\n",
       "      <td>0.016149</td>\n",
       "      <td>0.003193</td>\n",
       "      <td>3</td>\n",
       "      <td>{'n_features_to_select': 3}</td>\n",
       "      <td>0.704057</td>\n",
       "      <td>0.704857</td>\n",
       "      <td>0.704767</td>\n",
       "      <td>0.702762</td>\n",
       "      <td>...</td>\n",
       "      <td>0.703968</td>\n",
       "      <td>0.000802</td>\n",
       "      <td>9</td>\n",
       "      <td>0.703953</td>\n",
       "      <td>0.703755</td>\n",
       "      <td>0.703775</td>\n",
       "      <td>0.704276</td>\n",
       "      <td>0.704118</td>\n",
       "      <td>0.703975</td>\n",
       "      <td>0.000200</td>\n",
       "    </tr>\n",
       "    <tr>\n",
       "      <th>3</th>\n",
       "      <td>1.649359</td>\n",
       "      <td>0.016042</td>\n",
       "      <td>0.020027</td>\n",
       "      <td>0.000438</td>\n",
       "      <td>4</td>\n",
       "      <td>{'n_features_to_select': 4}</td>\n",
       "      <td>0.737172</td>\n",
       "      <td>0.736832</td>\n",
       "      <td>0.737351</td>\n",
       "      <td>0.734792</td>\n",
       "      <td>...</td>\n",
       "      <td>0.736328</td>\n",
       "      <td>0.001007</td>\n",
       "      <td>8</td>\n",
       "      <td>0.736126</td>\n",
       "      <td>0.736212</td>\n",
       "      <td>0.736080</td>\n",
       "      <td>0.736719</td>\n",
       "      <td>0.736546</td>\n",
       "      <td>0.736337</td>\n",
       "      <td>0.000252</td>\n",
       "    </tr>\n",
       "    <tr>\n",
       "      <th>4</th>\n",
       "      <td>1.521137</td>\n",
       "      <td>0.024824</td>\n",
       "      <td>0.024189</td>\n",
       "      <td>0.005258</td>\n",
       "      <td>5</td>\n",
       "      <td>{'n_features_to_select': 5}</td>\n",
       "      <td>0.760904</td>\n",
       "      <td>0.760408</td>\n",
       "      <td>0.760247</td>\n",
       "      <td>0.758103</td>\n",
       "      <td>...</td>\n",
       "      <td>0.759743</td>\n",
       "      <td>0.001021</td>\n",
       "      <td>7</td>\n",
       "      <td>0.759460</td>\n",
       "      <td>0.759584</td>\n",
       "      <td>0.759622</td>\n",
       "      <td>0.760158</td>\n",
       "      <td>0.759922</td>\n",
       "      <td>0.759749</td>\n",
       "      <td>0.000255</td>\n",
       "    </tr>\n",
       "    <tr>\n",
       "      <th>5</th>\n",
       "      <td>1.414359</td>\n",
       "      <td>0.026285</td>\n",
       "      <td>0.020906</td>\n",
       "      <td>0.002273</td>\n",
       "      <td>6</td>\n",
       "      <td>{'n_features_to_select': 6}</td>\n",
       "      <td>0.760951</td>\n",
       "      <td>0.760484</td>\n",
       "      <td>0.760327</td>\n",
       "      <td>0.758205</td>\n",
       "      <td>...</td>\n",
       "      <td>0.759818</td>\n",
       "      <td>0.001007</td>\n",
       "      <td>6</td>\n",
       "      <td>0.759543</td>\n",
       "      <td>0.759660</td>\n",
       "      <td>0.759697</td>\n",
       "      <td>0.760228</td>\n",
       "      <td>0.759999</td>\n",
       "      <td>0.759826</td>\n",
       "      <td>0.000251</td>\n",
       "    </tr>\n",
       "    <tr>\n",
       "      <th>6</th>\n",
       "      <td>1.248848</td>\n",
       "      <td>0.022332</td>\n",
       "      <td>0.025244</td>\n",
       "      <td>0.004056</td>\n",
       "      <td>7</td>\n",
       "      <td>{'n_features_to_select': 7}</td>\n",
       "      <td>0.768167</td>\n",
       "      <td>0.767891</td>\n",
       "      <td>0.767397</td>\n",
       "      <td>0.765170</td>\n",
       "      <td>...</td>\n",
       "      <td>0.767010</td>\n",
       "      <td>0.001094</td>\n",
       "      <td>5</td>\n",
       "      <td>0.766730</td>\n",
       "      <td>0.766799</td>\n",
       "      <td>0.766921</td>\n",
       "      <td>0.767477</td>\n",
       "      <td>0.767164</td>\n",
       "      <td>0.767018</td>\n",
       "      <td>0.000273</td>\n",
       "    </tr>\n",
       "    <tr>\n",
       "      <th>7</th>\n",
       "      <td>1.075694</td>\n",
       "      <td>0.011310</td>\n",
       "      <td>0.025231</td>\n",
       "      <td>0.003877</td>\n",
       "      <td>8</td>\n",
       "      <td>{'n_features_to_select': 8}</td>\n",
       "      <td>0.771302</td>\n",
       "      <td>0.771183</td>\n",
       "      <td>0.770606</td>\n",
       "      <td>0.768356</td>\n",
       "      <td>...</td>\n",
       "      <td>0.770196</td>\n",
       "      <td>0.001113</td>\n",
       "      <td>4</td>\n",
       "      <td>0.769928</td>\n",
       "      <td>0.769958</td>\n",
       "      <td>0.770101</td>\n",
       "      <td>0.770663</td>\n",
       "      <td>0.770370</td>\n",
       "      <td>0.770204</td>\n",
       "      <td>0.000278</td>\n",
       "    </tr>\n",
       "    <tr>\n",
       "      <th>8</th>\n",
       "      <td>0.893838</td>\n",
       "      <td>0.051669</td>\n",
       "      <td>0.027530</td>\n",
       "      <td>0.003720</td>\n",
       "      <td>9</td>\n",
       "      <td>{'n_features_to_select': 9}</td>\n",
       "      <td>0.773258</td>\n",
       "      <td>0.773268</td>\n",
       "      <td>0.772580</td>\n",
       "      <td>0.770453</td>\n",
       "      <td>...</td>\n",
       "      <td>0.772204</td>\n",
       "      <td>0.001095</td>\n",
       "      <td>3</td>\n",
       "      <td>0.771950</td>\n",
       "      <td>0.771948</td>\n",
       "      <td>0.772119</td>\n",
       "      <td>0.772650</td>\n",
       "      <td>0.772399</td>\n",
       "      <td>0.772213</td>\n",
       "      <td>0.000273</td>\n",
       "    </tr>\n",
       "    <tr>\n",
       "      <th>9</th>\n",
       "      <td>0.649954</td>\n",
       "      <td>0.020625</td>\n",
       "      <td>0.031557</td>\n",
       "      <td>0.002622</td>\n",
       "      <td>10</td>\n",
       "      <td>{'n_features_to_select': 10}</td>\n",
       "      <td>0.773352</td>\n",
       "      <td>0.773300</td>\n",
       "      <td>0.772657</td>\n",
       "      <td>0.770537</td>\n",
       "      <td>...</td>\n",
       "      <td>0.772277</td>\n",
       "      <td>0.001088</td>\n",
       "      <td>2</td>\n",
       "      <td>0.772019</td>\n",
       "      <td>0.772031</td>\n",
       "      <td>0.772192</td>\n",
       "      <td>0.772722</td>\n",
       "      <td>0.772473</td>\n",
       "      <td>0.772287</td>\n",
       "      <td>0.000272</td>\n",
       "    </tr>\n",
       "    <tr>\n",
       "      <th>10</th>\n",
       "      <td>0.367714</td>\n",
       "      <td>0.020426</td>\n",
       "      <td>0.030964</td>\n",
       "      <td>0.001304</td>\n",
       "      <td>11</td>\n",
       "      <td>{'n_features_to_select': 11}</td>\n",
       "      <td>0.773352</td>\n",
       "      <td>0.773302</td>\n",
       "      <td>0.772657</td>\n",
       "      <td>0.770537</td>\n",
       "      <td>...</td>\n",
       "      <td>0.772277</td>\n",
       "      <td>0.001089</td>\n",
       "      <td>1</td>\n",
       "      <td>0.772019</td>\n",
       "      <td>0.772031</td>\n",
       "      <td>0.772192</td>\n",
       "      <td>0.772722</td>\n",
       "      <td>0.772473</td>\n",
       "      <td>0.772288</td>\n",
       "      <td>0.000272</td>\n",
       "    </tr>\n",
       "  </tbody>\n",
       "</table>\n",
       "<p>11 rows × 21 columns</p>\n",
       "</div>"
      ],
      "text/plain": [
       "    mean_fit_time  std_fit_time  mean_score_time  std_score_time  \\\n",
       "0        1.804772      0.026535         0.013606        0.004363   \n",
       "1        1.772817      0.033555         0.013271        0.007060   \n",
       "2        1.719715      0.021570         0.016149        0.003193   \n",
       "3        1.649359      0.016042         0.020027        0.000438   \n",
       "4        1.521137      0.024824         0.024189        0.005258   \n",
       "5        1.414359      0.026285         0.020906        0.002273   \n",
       "6        1.248848      0.022332         0.025244        0.004056   \n",
       "7        1.075694      0.011310         0.025231        0.003877   \n",
       "8        0.893838      0.051669         0.027530        0.003720   \n",
       "9        0.649954      0.020625         0.031557        0.002622   \n",
       "10       0.367714      0.020426         0.030964        0.001304   \n",
       "\n",
       "   param_n_features_to_select                        params  \\\n",
       "0                           1   {'n_features_to_select': 1}   \n",
       "1                           2   {'n_features_to_select': 2}   \n",
       "2                           3   {'n_features_to_select': 3}   \n",
       "3                           4   {'n_features_to_select': 4}   \n",
       "4                           5   {'n_features_to_select': 5}   \n",
       "5                           6   {'n_features_to_select': 6}   \n",
       "6                           7   {'n_features_to_select': 7}   \n",
       "7                           8   {'n_features_to_select': 8}   \n",
       "8                           9   {'n_features_to_select': 9}   \n",
       "9                          10  {'n_features_to_select': 10}   \n",
       "10                         11  {'n_features_to_select': 11}   \n",
       "\n",
       "    split0_test_score  split1_test_score  split2_test_score  \\\n",
       "0            0.591221           0.591544           0.592574   \n",
       "1            0.593575           0.593698           0.594929   \n",
       "2            0.704057           0.704857           0.704767   \n",
       "3            0.737172           0.736832           0.737351   \n",
       "4            0.760904           0.760408           0.760247   \n",
       "5            0.760951           0.760484           0.760327   \n",
       "6            0.768167           0.767891           0.767397   \n",
       "7            0.771302           0.771183           0.770606   \n",
       "8            0.773258           0.773268           0.772580   \n",
       "9            0.773352           0.773300           0.772657   \n",
       "10           0.773352           0.773302           0.772657   \n",
       "\n",
       "    split3_test_score  ...  mean_test_score  std_test_score  rank_test_score  \\\n",
       "0            0.587853  ...         0.590954        0.001615               11   \n",
       "1            0.590019  ...         0.593117        0.001642               10   \n",
       "2            0.702762  ...         0.703968        0.000802                9   \n",
       "3            0.734792  ...         0.736328        0.001007                8   \n",
       "4            0.758103  ...         0.759743        0.001021                7   \n",
       "5            0.758205  ...         0.759818        0.001007                6   \n",
       "6            0.765170  ...         0.767010        0.001094                5   \n",
       "7            0.768356  ...         0.770196        0.001113                4   \n",
       "8            0.770453  ...         0.772204        0.001095                3   \n",
       "9            0.770537  ...         0.772277        0.001088                2   \n",
       "10           0.770537  ...         0.772277        0.001089                1   \n",
       "\n",
       "    split0_train_score  split1_train_score  split2_train_score  \\\n",
       "0             0.590893            0.590814            0.590553   \n",
       "1             0.593013            0.592983            0.592671   \n",
       "2             0.703953            0.703755            0.703775   \n",
       "3             0.736126            0.736212            0.736080   \n",
       "4             0.759460            0.759584            0.759622   \n",
       "5             0.759543            0.759660            0.759697   \n",
       "6             0.766730            0.766799            0.766921   \n",
       "7             0.769928            0.769958            0.770101   \n",
       "8             0.771950            0.771948            0.772119   \n",
       "9             0.772019            0.772031            0.772192   \n",
       "10            0.772019            0.772031            0.772192   \n",
       "\n",
       "    split3_train_score  split4_train_score  mean_train_score  std_train_score  \n",
       "0             0.591734            0.590805          0.590960         0.000404  \n",
       "1             0.593900            0.593064          0.593126         0.000411  \n",
       "2             0.704276            0.704118          0.703975         0.000200  \n",
       "3             0.736719            0.736546          0.736337         0.000252  \n",
       "4             0.760158            0.759922          0.759749         0.000255  \n",
       "5             0.760228            0.759999          0.759826         0.000251  \n",
       "6             0.767477            0.767164          0.767018         0.000273  \n",
       "7             0.770663            0.770370          0.770204         0.000278  \n",
       "8             0.772650            0.772399          0.772213         0.000273  \n",
       "9             0.772722            0.772473          0.772287         0.000272  \n",
       "10            0.772722            0.772473          0.772288         0.000272  \n",
       "\n",
       "[11 rows x 21 columns]"
      ]
     },
     "execution_count": 72,
     "metadata": {},
     "output_type": "execute_result"
    }
   ],
   "source": [
    "# cv results\n",
    "cv_results = pd.DataFrame(model_cv.cv_results_)\n",
    "cv_results"
   ]
  },
  {
   "cell_type": "code",
   "execution_count": 73,
   "id": "double-current",
   "metadata": {},
   "outputs": [
    {
     "data": {
      "text/plain": [
       "<matplotlib.legend.Legend at 0x27387500670>"
      ]
     },
     "execution_count": 73,
     "metadata": {},
     "output_type": "execute_result"
    },
    {
     "data": {
      "image/png": "[encoded data removed]",
      "text/plain": [
       "<Figure size 1152x432 with 1 Axes>"
      ]
     },
     "metadata": {
      "needs_background": "light"
     },
     "output_type": "display_data"
    }
   ],
   "source": [
    "# plotting cv results\n",
    "plt.figure(figsize=(16,6))\n",
    "\n",
    "plt.plot(cv_results[\"param_n_features_to_select\"], cv_results[\"mean_test_score\"])\n",
    "plt.plot(cv_results[\"param_n_features_to_select\"], cv_results[\"mean_train_score\"])\n",
    "plt.xlabel('number of features')\n",
    "plt.ylabel('r-squared')\n",
    "plt.title(\"Optimal Number of Features\")\n",
    "plt.legend(['test score', 'train score'], loc='upper left')"
   ]
  },
  {
   "cell_type": "code",
   "execution_count": 74,
   "id": "mental-assist",
   "metadata": {},
   "outputs": [
    {
     "name": "stdout",
     "output_type": "stream",
     "text": [
      "0.7724511997409498\n"
     ]
    }
   ],
   "source": [
    "# final model\n",
    "n_features_optimal = 8\n",
    "\n",
    "regressor_7 = LinearRegression()\n",
    "regressor_7.fit(X_1_train, y_1_train)\n",
    "\n",
    "rfe = RFE(regressor_7, n_features_to_select=n_features_optimal)             \n",
    "rfe = rfe.fit(X_1_train, y_1_train)\n",
    "\n",
    "# predict prices of X_test\n",
    "y_pred = regressor_7.predict(X_1_test)\n",
    "r2 = sklearn.metrics.r2_score(y_1_test, y_pred)\n",
    "print(r2)"
   ]
  },
  {
   "cell_type": "markdown",
   "id": "domestic-legend",
   "metadata": {},
   "source": [
    "## model 7"
   ]
  },
  {
   "cell_type": "code",
   "execution_count": 75,
   "id": "rational-balance",
   "metadata": {},
   "outputs": [],
   "source": [
    "# choosing all features\n",
    "\n",
    "X_4=dataset_no_outlier_value[['ambient', 'coolant', 'u_d', 'u_q', 'motor_speed',\n",
    "           'torque', 'i_d', 'i_q','stator_yoke', 'stator_tooth','stator_winding']]\n",
    "\n",
    "y_4= dataset_no_outlier_value[['pm']]"
   ]
  },
  {
   "cell_type": "code",
   "execution_count": 76,
   "id": "stretch-maintenance",
   "metadata": {},
   "outputs": [],
   "source": [
    "X_4_train, X_4_test, y_4_train, y_4_test = train_test_split(X_4, y_4, test_size = 0.2, random_state = 42)"
   ]
  },
  {
   "cell_type": "code",
   "execution_count": 77,
   "id": "binding-spending",
   "metadata": {},
   "outputs": [
    {
     "name": "stdout",
     "output_type": "stream",
     "text": [
      "accuracy score 0.6363242997347469\n"
     ]
    }
   ],
   "source": [
    "# Fitting Multiple Linear Regression to the Training set\n",
    "\n",
    "regressor_8 = LinearRegression()\n",
    "regressor_8.fit(X_4_train, y_4_train)\n",
    "\n",
    "# Predicting the Test set results\n",
    "y_pred = regressor.predict(X_4_test)\n",
    "\n",
    "score=r2_score(y_4_test,y_pred)\n",
    "\n",
    "print(\"accuracy score\",score)"
   ]
  },
  {
   "cell_type": "markdown",
   "id": "numeric-investor",
   "metadata": {},
   "source": [
    "## model 8"
   ]
  },
  {
   "cell_type": "code",
   "execution_count": 78,
   "id": "plain-benefit",
   "metadata": {},
   "outputs": [],
   "source": [
    "X_5= ss.fit_transform(X_4)"
   ]
  },
  {
   "cell_type": "code",
   "execution_count": 79,
   "id": "peripheral-andrews",
   "metadata": {},
   "outputs": [],
   "source": [
    "y_5= dataset_no_outlier_value[['pm']]"
   ]
  },
  {
   "cell_type": "code",
   "execution_count": 80,
   "id": "detected-greensboro",
   "metadata": {},
   "outputs": [],
   "source": [
    "X_5_train, X_5_test, y_5_train, y_5_test = train_test_split(X_5, y_5, test_size = 0.2, random_state = 42)"
   ]
  },
  {
   "cell_type": "code",
   "execution_count": 81,
   "id": "secret-negative",
   "metadata": {},
   "outputs": [
    {
     "name": "stdout",
     "output_type": "stream",
     "text": [
      "accuracy score 0.5254183372257462\n"
     ]
    }
   ],
   "source": [
    "# Fitting Multiple Linear Regression to the Training set\n",
    "\n",
    "regressor_9 = LinearRegression()\n",
    "regressor_9.fit(X_5_train, y_5_train)\n",
    "\n",
    "# Predicting the Test set results\n",
    "y_pred = regressor.predict(X_5_test)\n",
    "\n",
    "score=r2_score(y_5_test,y_pred)\n",
    "\n",
    "print(\"accuracy score\",score)"
   ]
  }
 ],
 "metadata": {
  "kernelspec": {
   "display_name": "Python 3",
   "language": "python",
   "name": "python3"
  },
  "language_info": {
   "codemirror_mode": {
    "name": "ipython",
    "version": 3
   },
   "file_extension": ".py",
   "mimetype": "text/x-python",
   "name": "python",
   "nbconvert_exporter": "python",
   "pygments_lexer": "ipython3",
   "version": "3.8.8"
  }
 },
 "nbformat": 4,
 "nbformat_minor": 5
}
